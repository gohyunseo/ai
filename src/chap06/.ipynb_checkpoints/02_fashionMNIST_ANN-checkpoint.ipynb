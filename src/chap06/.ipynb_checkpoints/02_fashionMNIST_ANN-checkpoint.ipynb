{
 "cells": [
  {
   "cell_type": "code",
   "execution_count": 1,
   "id": "a573aafd",
   "metadata": {},
   "outputs": [],
   "source": [
    "import tensorflow as tf\n",
    "from sklearn.model_selection import train_test_split\n",
    "\n",
    "#데이터 가져오기\n",
    "(train_input, train_target), (test_input, test_target) =  tf.keras.datasets.fashion_mnist. load_data() \n",
    "train_scaled = train_input / 255.0\n",
    "train_scaled = train_scaled.reshape(-1 , 28 * 28)\n"
   ]
  },
  {
   "cell_type": "code",
   "execution_count": 2,
   "id": "10c9779f",
   "metadata": {},
   "outputs": [],
   "source": [
    "train_scaled, val_scaled, train_target, val_target \\\n",
    "                 = train_test_split(train_scaled, train_target, test_size = 0.2, random_state = 42)"
   ]
  },
  {
   "cell_type": "code",
   "execution_count": 3,
   "id": "8a2c8ef5",
   "metadata": {},
   "outputs": [
    {
     "name": "stdout",
     "output_type": "stream",
     "text": [
      "(48000, 784) (48000,)\n",
      "(12000, 784) (12000,)\n"
     ]
    }
   ],
   "source": [
    "print(train_scaled.shape, train_target.shape)\n",
    "print(val_scaled.shape, val_target.shape) #검증용 사용을 위해 훈련데이터와 검증데이터 분리 "
   ]
  },
  {
   "cell_type": "code",
   "execution_count": 4,
   "id": "571bcbc8",
   "metadata": {},
   "outputs": [],
   "source": [
    "model = tf.keras.Sequential()\n",
    "model.add(tf.keras.layers.Dense(units=10, input_shape=(28*28,), activation='softmax'))"
   ]
  },
  {
   "cell_type": "code",
   "execution_count": 6,
   "id": "8d19e681",
   "metadata": {},
   "outputs": [],
   "source": [
    "model.compile(loss='sparse_categorical_crossentropy', optimizer='sgd', metrics = 'accuracy') #spares_categorical_crossentropy : onehot인코딩 알아서 실행 #optimizer='sgd' : 기본값"
   ]
  },
  {
   "cell_type": "code",
   "execution_count": 7,
   "id": "069699bc",
   "metadata": {},
   "outputs": [
    {
     "name": "stdout",
     "output_type": "stream",
     "text": [
      "Epoch 1/10\n",
      "1500/1500 [==============================] - 2s 960us/step - loss: 0.8656 - accuracy: 0.7243\n",
      "Epoch 2/10\n",
      "1500/1500 [==============================] - 1s 941us/step - loss: 0.6124 - accuracy: 0.8004\n",
      "Epoch 3/10\n",
      "1500/1500 [==============================] - 1s 937us/step - loss: 0.5582 - accuracy: 0.8158\n",
      "Epoch 4/10\n",
      "1500/1500 [==============================] - 1s 960us/step - loss: 0.5295 - accuracy: 0.8242\n",
      "Epoch 5/10\n",
      "1500/1500 [==============================] - 1s 946us/step - loss: 0.5103 - accuracy: 0.8293\n",
      "Epoch 6/10\n",
      "1500/1500 [==============================] - 1s 968us/step - loss: 0.4967 - accuracy: 0.8339\n",
      "Epoch 7/10\n",
      "1500/1500 [==============================] - 1s 941us/step - loss: 0.4862 - accuracy: 0.8361\n",
      "Epoch 8/10\n",
      "1500/1500 [==============================] - 1s 945us/step - loss: 0.4781 - accuracy: 0.8392\n",
      "Epoch 9/10\n",
      "1500/1500 [==============================] - 1s 946us/step - loss: 0.4706 - accuracy: 0.8419\n",
      "Epoch 10/10\n",
      "1500/1500 [==============================] - 1s 937us/step - loss: 0.4646 - accuracy: 0.8428\n"
     ]
    },
    {
     "data": {
      "text/plain": [
       "<keras.callbacks.History at 0x1d2510bcb08>"
      ]
     },
     "execution_count": 7,
     "metadata": {},
     "output_type": "execute_result"
    }
   ],
   "source": [
    "model.fit(train_scaled, train_target, epochs=10)"
   ]
  },
  {
   "cell_type": "code",
   "execution_count": 8,
   "id": "dfb9ea5c",
   "metadata": {},
   "outputs": [
    {
     "name": "stdout",
     "output_type": "stream",
     "text": [
      "375/375 [==============================] - 0s 893us/step - loss: 0.4799 - accuracy: 0.8362\n"
     ]
    },
    {
     "data": {
      "text/plain": [
       "[0.4799349308013916, 0.8361666798591614]"
      ]
     },
     "execution_count": 8,
     "metadata": {},
     "output_type": "execute_result"
    }
   ],
   "source": [
    "model.evaluate(val_scaled, val_target)"
   ]
  },
  {
   "cell_type": "code",
   "execution_count": null,
   "id": "1c853b9f",
   "metadata": {},
   "outputs": [],
   "source": []
  }
 ],
 "metadata": {
  "kernelspec": {
   "display_name": "Python 3 (ipykernel)",
   "language": "python",
   "name": "python3"
  },
  "language_info": {
   "codemirror_mode": {
    "name": "ipython",
    "version": 3
   },
   "file_extension": ".py",
   "mimetype": "text/x-python",
   "name": "python",
   "nbconvert_exporter": "python",
   "pygments_lexer": "ipython3",
   "version": "3.7.13"
  }
 },
 "nbformat": 4,
 "nbformat_minor": 5
}
