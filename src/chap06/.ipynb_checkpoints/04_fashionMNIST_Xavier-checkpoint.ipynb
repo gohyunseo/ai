{
 "cells": [
  {
   "cell_type": "code",
   "execution_count": 1,
   "id": "14d6213e",
   "metadata": {},
   "outputs": [],
   "source": [
    "from tensorflow import keras\n",
    "\n",
    "(train_input, train_target), (test_input, test_target) = keras.datasets.fashion_mnist.load_data()"
   ]
  },
  {
   "cell_type": "code",
   "execution_count": 2,
   "id": "f47bbcfd",
   "metadata": {},
   "outputs": [],
   "source": [
    "from sklearn.model_selection import train_test_split\n",
    "\n",
    "train_scaled = train_input / 255.0\n",
    "train_scaled = train_scaled.reshape(-1, 28 * 28)\n",
    "\n",
    "train_scaled, val_scaled, train_target, val_target = train_test_split(train_scaled, train_target, test_size=0.2, random_state=42)"
   ]
  },
  {
   "cell_type": "code",
   "execution_count": 16,
   "id": "a969c92e",
   "metadata": {},
   "outputs": [],
   "source": [
    "model = keras.Sequential()\n",
    "model.add(keras.layers.Dense(units = 512, activation = 'relu', input_shape = (28 * 28,), kernel_initializer='glorot_normal')) #glorot_normal=xavier\n",
    "# 은닉층 추가\n",
    "model.add(keras.layers.Dense(units = 512, activation = 'relu',  kernel_initializer='glorot_normal'))\n",
    "# 은닉층 추가\n",
    "model.add(keras.layers.Dense(units = 512, activation = 'relu',  kernel_initializer='glorot_normal'))\n",
    "# 은닉층 추가\n",
    "model.add(keras.layers.Dense(units = 512, activation = 'relu',  kernel_initializer='glorot_normal'))\n",
    "# 출력층 추가\n",
    "model.add(keras.layers.Dense(units = 10, activation = 'softmax',  kernel_initializer='glorot_normal'))"
   ]
  },
  {
   "cell_type": "code",
   "execution_count": 17,
   "id": "4124ff33",
   "metadata": {},
   "outputs": [],
   "source": [
    "model.compile(optimizer=keras.optimizers.Adam(learning_rate=0.001), metrics='accuracy')"
   ]
  },
  {
   "cell_type": "code",
   "execution_count": 18,
   "id": "3fd2c096",
   "metadata": {},
   "outputs": [
    {
     "name": "stdout",
     "output_type": "stream",
     "text": [
      "Model: \"sequential_3\"\n",
      "_________________________________________________________________\n",
      " Layer (type)                Output Shape              Param #   \n",
      "=================================================================\n",
      " dense_8 (Dense)             (None, 512)               401920    \n",
      "                                                                 \n",
      " dense_9 (Dense)             (None, 512)               262656    \n",
      "                                                                 \n",
      " dense_10 (Dense)            (None, 512)               262656    \n",
      "                                                                 \n",
      " dense_11 (Dense)            (None, 512)               262656    \n",
      "                                                                 \n",
      " dense_12 (Dense)            (None, 10)                5130      \n",
      "                                                                 \n",
      "=================================================================\n",
      "Total params: 1,195,018\n",
      "Trainable params: 1,195,018\n",
      "Non-trainable params: 0\n",
      "_________________________________________________________________\n"
     ]
    }
   ],
   "source": [
    "model.summary()"
   ]
  },
  {
   "cell_type": "code",
   "execution_count": 19,
   "id": "36fbb300",
   "metadata": {},
   "outputs": [
    {
     "name": "stdout",
     "output_type": "stream",
     "text": [
      "Epoch 1/50\n",
      "480/480 [==============================] - 4s 7ms/step - loss: 0.5055 - accuracy: 0.8147\n",
      "Epoch 2/50\n",
      "480/480 [==============================] - 4s 8ms/step - loss: 0.3700 - accuracy: 0.8636\n",
      "Epoch 3/50\n",
      "480/480 [==============================] - 4s 8ms/step - loss: 0.3292 - accuracy: 0.8777\n",
      "Epoch 4/50\n",
      "480/480 [==============================] - 4s 8ms/step - loss: 0.3082 - accuracy: 0.8849\n",
      "Epoch 5/50\n",
      "480/480 [==============================] - 4s 8ms/step - loss: 0.2864 - accuracy: 0.8929\n",
      "Epoch 6/50\n",
      "480/480 [==============================] - 4s 8ms/step - loss: 0.2727 - accuracy: 0.8973\n",
      "Epoch 7/50\n",
      "480/480 [==============================] - 4s 8ms/step - loss: 0.2611 - accuracy: 0.9016\n",
      "Epoch 8/50\n",
      "480/480 [==============================] - 4s 7ms/step - loss: 0.2533 - accuracy: 0.9044\n",
      "Epoch 9/50\n",
      "480/480 [==============================] - 4s 8ms/step - loss: 0.2388 - accuracy: 0.9093\n",
      "Epoch 10/50\n",
      "480/480 [==============================] - 4s 8ms/step - loss: 0.2315 - accuracy: 0.9126\n",
      "Epoch 11/50\n",
      "480/480 [==============================] - 4s 8ms/step - loss: 0.2210 - accuracy: 0.9170\n",
      "Epoch 12/50\n",
      "480/480 [==============================] - 4s 8ms/step - loss: 0.2123 - accuracy: 0.9200\n",
      "Epoch 13/50\n",
      "480/480 [==============================] - 4s 7ms/step - loss: 0.2064 - accuracy: 0.9220\n",
      "Epoch 14/50\n",
      "480/480 [==============================] - 4s 8ms/step - loss: 0.1960 - accuracy: 0.9246\n",
      "Epoch 15/50\n",
      "480/480 [==============================] - 4s 8ms/step - loss: 0.1927 - accuracy: 0.9266\n",
      "Epoch 16/50\n",
      "480/480 [==============================] - 4s 7ms/step - loss: 0.1836 - accuracy: 0.9302\n",
      "Epoch 17/50\n",
      "480/480 [==============================] - 4s 8ms/step - loss: 0.1745 - accuracy: 0.9316\n",
      "Epoch 18/50\n",
      "480/480 [==============================] - 4s 8ms/step - loss: 0.1712 - accuracy: 0.9353\n",
      "Epoch 19/50\n",
      "480/480 [==============================] - 4s 7ms/step - loss: 0.1645 - accuracy: 0.9354\n",
      "Epoch 20/50\n",
      "480/480 [==============================] - 4s 8ms/step - loss: 0.1572 - accuracy: 0.9399\n",
      "Epoch 21/50\n",
      "480/480 [==============================] - 4s 8ms/step - loss: 0.1518 - accuracy: 0.9408\n",
      "Epoch 22/50\n",
      "480/480 [==============================] - 4s 8ms/step - loss: 0.1518 - accuracy: 0.9423\n",
      "Epoch 23/50\n",
      "480/480 [==============================] - 4s 8ms/step - loss: 0.1409 - accuracy: 0.9452\n",
      "Epoch 24/50\n",
      "480/480 [==============================] - 4s 8ms/step - loss: 0.1390 - accuracy: 0.9463\n",
      "Epoch 25/50\n",
      "480/480 [==============================] - 4s 8ms/step - loss: 0.1343 - accuracy: 0.9482\n",
      "Epoch 26/50\n",
      "480/480 [==============================] - 4s 8ms/step - loss: 0.1324 - accuracy: 0.9492\n",
      "Epoch 27/50\n",
      "480/480 [==============================] - 4s 8ms/step - loss: 0.1219 - accuracy: 0.9514\n",
      "Epoch 28/50\n",
      "480/480 [==============================] - 4s 8ms/step - loss: 0.1174 - accuracy: 0.9532\n",
      "Epoch 29/50\n",
      "480/480 [==============================] - 4s 8ms/step - loss: 0.1164 - accuracy: 0.9539\n",
      "Epoch 30/50\n",
      "480/480 [==============================] - 4s 8ms/step - loss: 0.1141 - accuracy: 0.9553\n",
      "Epoch 31/50\n",
      "480/480 [==============================] - 4s 8ms/step - loss: 0.1097 - accuracy: 0.9564\n",
      "Epoch 32/50\n",
      "480/480 [==============================] - 4s 8ms/step - loss: 0.1073 - accuracy: 0.9587\n",
      "Epoch 33/50\n",
      "480/480 [==============================] - 4s 8ms/step - loss: 0.1016 - accuracy: 0.9601\n",
      "Epoch 34/50\n",
      "480/480 [==============================] - 4s 8ms/step - loss: 0.0987 - accuracy: 0.9613\n",
      "Epoch 35/50\n",
      "480/480 [==============================] - 4s 8ms/step - loss: 0.0991 - accuracy: 0.9611\n",
      "Epoch 36/50\n",
      "480/480 [==============================] - 4s 8ms/step - loss: 0.0939 - accuracy: 0.9632\n",
      "Epoch 37/50\n",
      "480/480 [==============================] - 4s 8ms/step - loss: 0.0912 - accuracy: 0.9647\n",
      "Epoch 38/50\n",
      "480/480 [==============================] - 4s 8ms/step - loss: 0.0875 - accuracy: 0.9659\n",
      "Epoch 39/50\n",
      "480/480 [==============================] - 4s 8ms/step - loss: 0.0827 - accuracy: 0.9675\n",
      "Epoch 40/50\n",
      "480/480 [==============================] - 4s 8ms/step - loss: 0.0824 - accuracy: 0.9684\n",
      "Epoch 41/50\n",
      "480/480 [==============================] - 4s 8ms/step - loss: 0.0874 - accuracy: 0.9668\n",
      "Epoch 42/50\n",
      "480/480 [==============================] - 4s 8ms/step - loss: 0.0802 - accuracy: 0.9692\n",
      "Epoch 43/50\n",
      "480/480 [==============================] - 4s 8ms/step - loss: 0.0799 - accuracy: 0.9690\n",
      "Epoch 44/50\n",
      "480/480 [==============================] - 4s 8ms/step - loss: 0.0757 - accuracy: 0.9708\n",
      "Epoch 45/50\n",
      "480/480 [==============================] - 4s 8ms/step - loss: 0.0742 - accuracy: 0.9722\n",
      "Epoch 46/50\n",
      "480/480 [==============================] - 4s 8ms/step - loss: 0.0747 - accuracy: 0.9716\n",
      "Epoch 47/50\n",
      "480/480 [==============================] - 4s 8ms/step - loss: 0.0724 - accuracy: 0.9729\n",
      "Epoch 48/50\n",
      "480/480 [==============================] - 4s 8ms/step - loss: 0.0647 - accuracy: 0.9752\n",
      "Epoch 49/50\n",
      "480/480 [==============================] - 4s 8ms/step - loss: 0.0651 - accuracy: 0.9753\n",
      "Epoch 50/50\n",
      "480/480 [==============================] - 4s 8ms/step - loss: 0.0629 - accuracy: 0.9759\n"
     ]
    },
    {
     "data": {
      "text/plain": [
       "<keras.callbacks.History at 0x18331e6a908>"
      ]
     },
     "execution_count": 19,
     "metadata": {},
     "output_type": "execute_result"
    }
   ],
   "source": [
    "model.compile(optimizer='adam', loss='sparse_categorical_crossentropy', metrics='accuracy')\n",
    "model.fit(train_scaled, train_target, epochs = 50, batch_size = 100) # batch_size=32 : 기본값"
   ]
  },
  {
   "cell_type": "code",
   "execution_count": 20,
   "id": "51eacba9",
   "metadata": {},
   "outputs": [
    {
     "name": "stdout",
     "output_type": "stream",
     "text": [
      "375/375 [==============================] - 1s 2ms/step - loss: 0.5599 - accuracy: 0.8876\n"
     ]
    },
    {
     "data": {
      "text/plain": [
       "[0.5598618388175964, 0.887583315372467]"
      ]
     },
     "execution_count": 20,
     "metadata": {},
     "output_type": "execute_result"
    }
   ],
   "source": [
    "model.evaluate(val_scaled, val_target)"
   ]
  },
  {
   "cell_type": "code",
   "execution_count": null,
   "id": "d1d429d5",
   "metadata": {},
   "outputs": [],
   "source": []
  }
 ],
 "metadata": {
  "kernelspec": {
   "display_name": "Python 3 (ipykernel)",
   "language": "python",
   "name": "python3"
  },
  "language_info": {
   "codemirror_mode": {
    "name": "ipython",
    "version": 3
   },
   "file_extension": ".py",
   "mimetype": "text/x-python",
   "name": "python",
   "nbconvert_exporter": "python",
   "pygments_lexer": "ipython3",
   "version": "3.7.13"
  }
 },
 "nbformat": 4,
 "nbformat_minor": 5
}
