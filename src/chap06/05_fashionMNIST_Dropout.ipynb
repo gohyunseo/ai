{
 "cells": [
  {
   "cell_type": "code",
   "execution_count": 1,
   "id": "85b76534",
   "metadata": {},
   "outputs": [],
   "source": [
    "from tensorflow import keras\n",
    "\n",
    "(train_input, train_target), (test_input, test_target) = keras.datasets.fashion_mnist.load_data()"
   ]
  },
  {
   "cell_type": "code",
   "execution_count": 2,
   "id": "e60eb437",
   "metadata": {},
   "outputs": [],
   "source": [
    "from sklearn.model_selection import train_test_split\n",
    "\n",
    "train_scaled = train_input / 255.0\n",
    "train_scaled = train_scaled.reshape(-1, 28 * 28)\n",
    "\n",
    "train_scaled, val_scaled, train_target, val_target = train_test_split(train_scaled, train_target, test_size=0.2, random_state=42)"
   ]
  },
  {
   "cell_type": "code",
   "execution_count": 3,
   "id": "eeb3497e",
   "metadata": {},
   "outputs": [],
   "source": [
    "model = keras.Sequential()\n",
    "model.add(keras.layers.Dense(units = 512, activation = 'relu', input_shape = (28 * 28,), kernel_initializer='glorot_normal')) #glorot_normal=xavier\n",
    "# dropout 사용\n",
    "model.add(keras.layers.Dropout(0.3)) #0.3: 30퍼 임의삭제\n",
    "# 은닉층 추가\n",
    "model.add(keras.layers.Dense(units = 512, activation = 'relu',  kernel_initializer='glorot_normal'))\n",
    "# dropout 사용\n",
    "model.add(keras.layers.Dropout(0.3)) #0.3: 30퍼 임의삭제\n",
    "# 은닉층 추가\n",
    "model.add(keras.layers.Dense(units = 512, activation = 'relu',  kernel_initializer='glorot_normal'))\n",
    "# dropout 사용\n",
    "model.add(keras.layers.Dropout(0.3)) #0.3: 30퍼 임의삭제\n",
    "# 은닉층 추가\n",
    "model.add(keras.layers.Dense(units = 512, activation = 'relu',  kernel_initializer='glorot_normal'))\n",
    "# dropout 사용\n",
    "model.add(keras.layers.Dropout(0.3)) #0.3: 30퍼 임의삭제\n",
    "# 출력층 추가\n",
    "model.add(keras.layers.Dense(units = 10, activation = 'softmax',  kernel_initializer='glorot_normal'))"
   ]
  },
  {
   "cell_type": "code",
   "execution_count": 4,
   "id": "6811c36f",
   "metadata": {},
   "outputs": [],
   "source": [
    "model.compile(optimizer=keras.optimizers.Adam(learning_rate=0.001), metrics='accuracy')"
   ]
  },
  {
   "cell_type": "code",
   "execution_count": 5,
   "id": "1ac40319",
   "metadata": {},
   "outputs": [
    {
     "name": "stdout",
     "output_type": "stream",
     "text": [
      "Model: \"sequential\"\n",
      "_________________________________________________________________\n",
      " Layer (type)                Output Shape              Param #   \n",
      "=================================================================\n",
      " dense (Dense)               (None, 512)               401920    \n",
      "                                                                 \n",
      " dropout (Dropout)           (None, 512)               0         \n",
      "                                                                 \n",
      " dense_1 (Dense)             (None, 512)               262656    \n",
      "                                                                 \n",
      " dropout_1 (Dropout)         (None, 512)               0         \n",
      "                                                                 \n",
      " dense_2 (Dense)             (None, 512)               262656    \n",
      "                                                                 \n",
      " dropout_2 (Dropout)         (None, 512)               0         \n",
      "                                                                 \n",
      " dense_3 (Dense)             (None, 512)               262656    \n",
      "                                                                 \n",
      " dropout_3 (Dropout)         (None, 512)               0         \n",
      "                                                                 \n",
      " dense_4 (Dense)             (None, 10)                5130      \n",
      "                                                                 \n",
      "=================================================================\n",
      "Total params: 1,195,018\n",
      "Trainable params: 1,195,018\n",
      "Non-trainable params: 0\n",
      "_________________________________________________________________\n"
     ]
    }
   ],
   "source": [
    "model.summary()"
   ]
  },
  {
   "cell_type": "code",
   "execution_count": 6,
   "id": "5493772b",
   "metadata": {},
   "outputs": [
    {
     "name": "stdout",
     "output_type": "stream",
     "text": [
      "Epoch 1/50\n",
      "480/480 [==============================] - 5s 9ms/step - loss: 0.6136 - accuracy: 0.7762\n",
      "Epoch 2/50\n",
      "480/480 [==============================] - 4s 8ms/step - loss: 0.4493 - accuracy: 0.8371\n",
      "Epoch 3/50\n",
      "480/480 [==============================] - 4s 8ms/step - loss: 0.4191 - accuracy: 0.8497\n",
      "Epoch 4/50\n",
      "480/480 [==============================] - 4s 8ms/step - loss: 0.3884 - accuracy: 0.8599\n",
      "Epoch 5/50\n",
      "480/480 [==============================] - 4s 8ms/step - loss: 0.3723 - accuracy: 0.8651\n",
      "Epoch 6/50\n",
      "480/480 [==============================] - 4s 8ms/step - loss: 0.3601 - accuracy: 0.8694\n",
      "Epoch 7/50\n",
      "480/480 [==============================] - 4s 8ms/step - loss: 0.3479 - accuracy: 0.8740\n",
      "Epoch 8/50\n",
      "480/480 [==============================] - 4s 8ms/step - loss: 0.3407 - accuracy: 0.8758\n",
      "Epoch 9/50\n",
      "480/480 [==============================] - 4s 9ms/step - loss: 0.3332 - accuracy: 0.8789\n",
      "Epoch 10/50\n",
      "480/480 [==============================] - 4s 8ms/step - loss: 0.3247 - accuracy: 0.8824\n",
      "Epoch 11/50\n",
      "480/480 [==============================] - 4s 8ms/step - loss: 0.3228 - accuracy: 0.8829\n",
      "Epoch 12/50\n",
      "480/480 [==============================] - 4s 8ms/step - loss: 0.3151 - accuracy: 0.8847\n",
      "Epoch 13/50\n",
      "480/480 [==============================] - 4s 8ms/step - loss: 0.3104 - accuracy: 0.8861\n",
      "Epoch 14/50\n",
      "480/480 [==============================] - 4s 8ms/step - loss: 0.3081 - accuracy: 0.8870\n",
      "Epoch 15/50\n",
      "480/480 [==============================] - 4s 9ms/step - loss: 0.3014 - accuracy: 0.8904\n",
      "Epoch 16/50\n",
      "480/480 [==============================] - 4s 8ms/step - loss: 0.2969 - accuracy: 0.8916\n",
      "Epoch 17/50\n",
      "480/480 [==============================] - 4s 8ms/step - loss: 0.2969 - accuracy: 0.8907\n",
      "Epoch 18/50\n",
      "480/480 [==============================] - 4s 8ms/step - loss: 0.2906 - accuracy: 0.8939\n",
      "Epoch 19/50\n",
      "480/480 [==============================] - 4s 8ms/step - loss: 0.2855 - accuracy: 0.8938\n",
      "Epoch 20/50\n",
      "480/480 [==============================] - 4s 8ms/step - loss: 0.2842 - accuracy: 0.8968\n",
      "Epoch 21/50\n",
      "480/480 [==============================] - 4s 9ms/step - loss: 0.2773 - accuracy: 0.8978\n",
      "Epoch 22/50\n",
      "480/480 [==============================] - 4s 9ms/step - loss: 0.2793 - accuracy: 0.8970\n",
      "Epoch 23/50\n",
      "480/480 [==============================] - 4s 9ms/step - loss: 0.2738 - accuracy: 0.9013\n",
      "Epoch 24/50\n",
      "480/480 [==============================] - 5s 10ms/step - loss: 0.2682 - accuracy: 0.9009\n",
      "Epoch 25/50\n",
      "480/480 [==============================] - 4s 9ms/step - loss: 0.2727 - accuracy: 0.9011\n",
      "Epoch 26/50\n",
      "480/480 [==============================] - 5s 11ms/step - loss: 0.2620 - accuracy: 0.9043\n",
      "Epoch 27/50\n",
      "480/480 [==============================] - 5s 10ms/step - loss: 0.2627 - accuracy: 0.9041\n",
      "Epoch 28/50\n",
      "480/480 [==============================] - 4s 9ms/step - loss: 0.2625 - accuracy: 0.9045\n",
      "Epoch 29/50\n",
      "480/480 [==============================] - 4s 8ms/step - loss: 0.2574 - accuracy: 0.9054\n",
      "Epoch 30/50\n",
      "480/480 [==============================] - 5s 10ms/step - loss: 0.2603 - accuracy: 0.9046\n",
      "Epoch 31/50\n",
      "480/480 [==============================] - 5s 10ms/step - loss: 0.2590 - accuracy: 0.9059\n",
      "Epoch 32/50\n",
      "480/480 [==============================] - 5s 10ms/step - loss: 0.2552 - accuracy: 0.9068\n",
      "Epoch 33/50\n",
      "480/480 [==============================] - 4s 9ms/step - loss: 0.2507 - accuracy: 0.9072\n",
      "Epoch 34/50\n",
      "480/480 [==============================] - 4s 9ms/step - loss: 0.2515 - accuracy: 0.9076\n",
      "Epoch 35/50\n",
      "480/480 [==============================] - 4s 9ms/step - loss: 0.2543 - accuracy: 0.9082\n",
      "Epoch 36/50\n",
      "480/480 [==============================] - 4s 8ms/step - loss: 0.2479 - accuracy: 0.9092\n",
      "Epoch 37/50\n",
      "480/480 [==============================] - 4s 8ms/step - loss: 0.2431 - accuracy: 0.9105\n",
      "Epoch 38/50\n",
      "480/480 [==============================] - 4s 9ms/step - loss: 0.2419 - accuracy: 0.9115\n",
      "Epoch 39/50\n",
      "480/480 [==============================] - 4s 8ms/step - loss: 0.2441 - accuracy: 0.9098\n",
      "Epoch 40/50\n",
      "480/480 [==============================] - 4s 8ms/step - loss: 0.2398 - accuracy: 0.9123\n",
      "Epoch 41/50\n",
      "480/480 [==============================] - 4s 9ms/step - loss: 0.2403 - accuracy: 0.9132\n",
      "Epoch 42/50\n",
      "480/480 [==============================] - 4s 8ms/step - loss: 0.2373 - accuracy: 0.9135\n",
      "Epoch 43/50\n",
      "480/480 [==============================] - 4s 9ms/step - loss: 0.2348 - accuracy: 0.9143\n",
      "Epoch 44/50\n",
      "480/480 [==============================] - 4s 9ms/step - loss: 0.2365 - accuracy: 0.9133\n",
      "Epoch 45/50\n",
      "480/480 [==============================] - 4s 9ms/step - loss: 0.2337 - accuracy: 0.9145\n",
      "Epoch 46/50\n",
      "480/480 [==============================] - 4s 9ms/step - loss: 0.2331 - accuracy: 0.9145\n",
      "Epoch 47/50\n",
      "480/480 [==============================] - 4s 9ms/step - loss: 0.2307 - accuracy: 0.9149\n",
      "Epoch 48/50\n",
      "480/480 [==============================] - 4s 9ms/step - loss: 0.2348 - accuracy: 0.9166\n",
      "Epoch 49/50\n",
      "480/480 [==============================] - 4s 8ms/step - loss: 0.2301 - accuracy: 0.9166\n",
      "Epoch 50/50\n",
      "480/480 [==============================] - 4s 9ms/step - loss: 0.2283 - accuracy: 0.9176\n"
     ]
    },
    {
     "data": {
      "text/plain": [
       "<keras.callbacks.History at 0x1633fb73c48>"
      ]
     },
     "execution_count": 6,
     "metadata": {},
     "output_type": "execute_result"
    }
   ],
   "source": [
    "model.compile(optimizer='adam', loss='sparse_categorical_crossentropy', metrics='accuracy')\n",
    "model.fit(train_scaled, train_target, epochs = 50, batch_size = 100) # batch_size=32 : 기본값"
   ]
  },
  {
   "cell_type": "code",
   "execution_count": 7,
   "id": "aab516b3",
   "metadata": {},
   "outputs": [
    {
     "name": "stdout",
     "output_type": "stream",
     "text": [
      "375/375 [==============================] - 1s 2ms/step - loss: 0.3112 - accuracy: 0.8957\n"
     ]
    },
    {
     "data": {
      "text/plain": [
       "[0.31120961904525757, 0.8956666588783264]"
      ]
     },
     "execution_count": 7,
     "metadata": {},
     "output_type": "execute_result"
    }
   ],
   "source": [
    "model.evaluate(val_scaled, val_target)"
   ]
  },
  {
   "cell_type": "code",
   "execution_count": null,
   "id": "c5cc3b03",
   "metadata": {},
   "outputs": [],
   "source": []
  }
 ],
 "metadata": {
  "kernelspec": {
   "display_name": "Python 3 (ipykernel)",
   "language": "python",
   "name": "python3"
  },
  "language_info": {
   "codemirror_mode": {
    "name": "ipython",
    "version": 3
   },
   "file_extension": ".py",
   "mimetype": "text/x-python",
   "name": "python",
   "nbconvert_exporter": "python",
   "pygments_lexer": "ipython3",
   "version": "3.7.13"
  }
 },
 "nbformat": 4,
 "nbformat_minor": 5
}
