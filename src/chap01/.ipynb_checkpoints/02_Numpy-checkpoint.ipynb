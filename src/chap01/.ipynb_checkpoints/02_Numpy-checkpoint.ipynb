{
 "cells": [
  {
   "cell_type": "markdown",
   "id": "2bbeb033",
   "metadata": {},
   "source": [
    "## Numpy ndarray 개요"
   ]
  },
  {
   "cell_type": "code",
   "execution_count": 3,
   "id": "0cd916cc",
   "metadata": {},
   "outputs": [],
   "source": [
    "import numpy as np\n",
    "import matplotlib.pyplot as plt "
   ]
  },
  {
   "cell_type": "markdown",
   "id": "3238f27e",
   "metadata": {},
   "source": [
    "### -  배열 생성"
   ]
  },
  {
   "cell_type": "code",
   "execution_count": 8,
   "id": "e70152dc",
   "metadata": {},
   "outputs": [
    {
     "name": "stdout",
     "output_type": "stream",
     "text": [
      "[1 2 3]\n",
      "array1 type :  <class 'numpy.ndarray'>\n",
      "array1 array 형태 :  (3,)\n"
     ]
    }
   ],
   "source": [
    "# 동일한 자료형의 연속된 데이터를 저장하기 위해서 연속된 메모리요청을 하나의 변수 이름으로 데이터를 관리할 수 있는 자료형\n",
    "# numpy는 자료형이 동일한 list를 '배열'로 변환\n",
    "# 1차원 배열 (R에서는 (vector)) 정의\n",
    "array1 = np.array([1, 2, 3])\n",
    "print(array1)\n",
    "print('array1 type : ', type(array1))\n",
    "print('array1 array 형태 : ',array1.shape)"
   ]
  },
  {
   "cell_type": "code",
   "execution_count": 6,
   "id": "0ce6f9cc",
   "metadata": {},
   "outputs": [
    {
     "name": "stdout",
     "output_type": "stream",
     "text": [
      "[1, 2, 3]\n"
     ]
    }
   ],
   "source": [
    "# cf) 리스트 자료형\n",
    "list = [1, 2, 3]\n",
    "print(list)"
   ]
  },
  {
   "cell_type": "code",
   "execution_count": 4,
   "id": "9d842a60",
   "metadata": {},
   "outputs": [
    {
     "name": "stdout",
     "output_type": "stream",
     "text": [
      "[[1 2 3]\n",
      " [4 5 6]]\n",
      "array2 type :  <class 'numpy.ndarray'>\n",
      "array2 array 형태 :  (2, 3)\n"
     ]
    }
   ],
   "source": [
    "# 2차원 배열 (R에서는 (matrix)) 정의\n",
    "array2 = np.array([[1, 2, 3], \n",
    "                   [4, 5, 6]]) #2행 3열\n",
    "print(array2)\n",
    "print('array2 type : ', type(array2))\n",
    "print('array2 array 형태 : ',array2.shape)"
   ]
  },
  {
   "cell_type": "code",
   "execution_count": 5,
   "id": "5d0d9991",
   "metadata": {},
   "outputs": [
    {
     "name": "stdout",
     "output_type": "stream",
     "text": [
      "[[1 2 3]]\n",
      "arrayMatrix type :  <class 'numpy.ndarray'>\n",
      "arrayMatrix array 형태 :  (1, 3)\n"
     ]
    }
   ],
   "source": [
    "arrayMatrix = np.array([[1, 2, 3]]) #1행 3열\n",
    "print(arrayMatrix)\n",
    "print('arrayMatrix type : ', type(arrayMatrix))\n",
    "print('arrayMatrix array 형태 : ',arrayMatrix.shape)"
   ]
  },
  {
   "cell_type": "code",
   "execution_count": 6,
   "id": "ff154e6c",
   "metadata": {},
   "outputs": [
    {
     "name": "stdout",
     "output_type": "stream",
     "text": [
      "[[[ 1  2  3  4]\n",
      "  [ 5  6  7  8]\n",
      "  [ 9 10 11 12]]\n",
      "\n",
      " [[13 14 15 16]\n",
      "  [17 18 19 20]\n",
      "  [21 22 23 24]]]\n",
      "array3 type :  <class 'numpy.ndarray'>\n",
      "array3 array 형태 :  (2, 3, 4)\n"
     ]
    }
   ],
   "source": [
    "# 3차원 배열 (R에서는 (array)) 정의\n",
    "array3 = np.array([[[1, 2, 3, 4], \n",
    "                    [5, 6, 7, 8],\n",
    "                    [9, 10, 11, 12]],\n",
    "                   [[13, 14, 15, 16],\n",
    "                    [17, 18, 19, 20],\n",
    "                    [21, 22, 23, 24]]]) # 2면 3행 4열\n",
    "print(array3)\n",
    "print('array3 type : ', type(array3))\n",
    "print('array3 array 형태 : ',array3.shape)"
   ]
  },
  {
   "cell_type": "code",
   "execution_count": 11,
   "id": "56c98799",
   "metadata": {},
   "outputs": [
    {
     "name": "stdout",
     "output_type": "stream",
     "text": [
      "array1: 1차원\n",
      "array2: 2차원\n",
      "arrayMatrix: 2차원\n",
      "array3: 3차원\n",
      "array1: 1차원, array2: 2차원, arrayMatrix: 2차원, array3: 3차원\n"
     ]
    }
   ],
   "source": [
    "print('array1: {0}차원'.format(array1.ndim))\n",
    "print('array2: {0}차원'.format(array2.ndim))\n",
    "print('arrayMatrix: {0}차원'.format(arrayMatrix.ndim))\n",
    "print('array3: {0}차원'.format(array3.ndim))\n",
    "# 다른 출력 방법( 가독성 문제로 추천하지 않는 코드)\n",
    "print(f'array1: {array1.ndim}차원, array2: {array2.ndim}차원, arrayMatrix: {arrayMatrix.ndim}차원, array3: {array3.ndim}차원')"
   ]
  },
  {
   "cell_type": "code",
   "execution_count": 14,
   "id": "cbd8fbff",
   "metadata": {},
   "outputs": [
    {
     "name": "stdout",
     "output_type": "stream",
     "text": [
      "<class 'list'>\n",
      "<class 'numpy.ndarray'>\n",
      "[1 2 3] int32\n"
     ]
    }
   ],
   "source": [
    "list1 = [1, 2, 3]\n",
    "print(type(list1))\n",
    "\n",
    "array1 = np.array(list1)\n",
    "print(type(array1))\n",
    "\n",
    "print(array1, array1.dtype)"
   ]
  },
  {
   "cell_type": "code",
   "execution_count": 15,
   "id": "5c8bfa08",
   "metadata": {},
   "outputs": [
    {
     "name": "stdout",
     "output_type": "stream",
     "text": [
      "<class 'list'>\n",
      "<class 'numpy.ndarray'>\n",
      "[1. 2. 3.] float64\n"
     ]
    }
   ],
   "source": [
    "list2 = [1., 2., 3.]\n",
    "print(type(list2))\n",
    "\n",
    "array2 = np.array(list2)\n",
    "print(type(array2))\n",
    "\n",
    "print(array2, array2.dtype)"
   ]
  },
  {
   "cell_type": "code",
   "execution_count": 16,
   "id": "e449a303",
   "metadata": {},
   "outputs": [
    {
     "name": "stdout",
     "output_type": "stream",
     "text": [
      "<class 'list'>\n",
      "<class 'numpy.ndarray'>\n",
      "['1' '2' 'test'] <U11\n"
     ]
    }
   ],
   "source": [
    "list3 = [1, 2, 'test']\n",
    "print(type(list3))\n",
    "\n",
    "array3 = np.array(list3)\n",
    "print(type(array3))\n",
    "\n",
    "print(array3, array3.dtype)"
   ]
  },
  {
   "cell_type": "code",
   "execution_count": 17,
   "id": "f302a630",
   "metadata": {},
   "outputs": [
    {
     "name": "stdout",
     "output_type": "stream",
     "text": [
      "<class 'list'>\n",
      "<class 'numpy.ndarray'>\n",
      "[1.  2.  3.5] float64\n"
     ]
    }
   ],
   "source": [
    "list4 = [1, 2, 3.5]\n",
    "print(type(list4))\n",
    "\n",
    "array4 = np.array(list4)\n",
    "print(type(array4))\n",
    "\n",
    "print(array4, array4.dtype)"
   ]
  },
  {
   "cell_type": "code",
   "execution_count": 20,
   "id": "a7441240",
   "metadata": {},
   "outputs": [
    {
     "name": "stdout",
     "output_type": "stream",
     "text": [
      "[1. 2. 3.] float64\n",
      "[1 2 3] int32\n"
     ]
    }
   ],
   "source": [
    "array_int = np.array([1,2,3])\n",
    "array_float = array_int.astype('float64')\n",
    "print(array_float, array_float.dtype)\n",
    "print(array_int, array_int.dtype)"
   ]
  },
  {
   "cell_type": "code",
   "execution_count": 23,
   "id": "319f6ac7",
   "metadata": {},
   "outputs": [
    {
     "name": "stdout",
     "output_type": "stream",
     "text": [
      "[1 2 3] int32\n",
      "[1 2 3] int32\n"
     ]
    }
   ],
   "source": [
    "array_int1 = array_float.astype('int32')\n",
    "print(array_int1, array_int1.dtype)\n",
    "\n",
    "array_float1 = np.array([1.1, 2.5, 3.7])\n",
    "array_int2 = array_float1.astype('int32')\n",
    "print(array_int2, array_int2.dtype)"
   ]
  },
  {
   "cell_type": "markdown",
   "id": "52a481af",
   "metadata": {},
   "source": [
    "## ndarray를 편리하게 생성하기"
   ]
  },
  {
   "cell_type": "code",
   "execution_count": 25,
   "id": "86f39736",
   "metadata": {},
   "outputs": [
    {
     "name": "stdout",
     "output_type": "stream",
     "text": [
      "[[0 0 0 0]\n",
      " [0 0 0 0]\n",
      " [0 0 0 0]]\n",
      "int32 (3, 4)\n"
     ]
    }
   ],
   "source": [
    "#zeros((행, 열)) :0으로 채우는 함수\n",
    "zero_array = np.zeros((3, 4), dtype='int32') #3행 4열을 정수형 자료 0으로 채우기\n",
    "print(zero_array)\n",
    "print(zero_array.dtype, zero_array.shape)"
   ]
  },
  {
   "cell_type": "code",
   "execution_count": 27,
   "id": "34f94ebb",
   "metadata": {},
   "outputs": [
    {
     "name": "stdout",
     "output_type": "stream",
     "text": [
      "[[1. 1.]\n",
      " [1. 1.]]\n",
      "float64 (2, 2)\n"
     ]
    }
   ],
   "source": [
    "#ones((행, 열)) :1으로 채우는 함수\n",
    "one_array = np.ones((2, 2)) #2행 2열을 별도의 자료형 선언 없으면 기본값 실수형 자료 1로 채우기\n",
    "print(one_array)\n",
    "print(one_array.dtype, one_array.shape)"
   ]
  },
  {
   "cell_type": "code",
   "execution_count": 28,
   "id": "c7848711",
   "metadata": {},
   "outputs": [
    {
     "name": "stdout",
     "output_type": "stream",
     "text": [
      "[[7 7 7 7 7]\n",
      " [7 7 7 7 7]\n",
      " [7 7 7 7 7]\n",
      " [7 7 7 7 7]]\n",
      "int32 (4, 5)\n"
     ]
    }
   ],
   "source": [
    "#full((행, 열),값) : 값 으로 채우는 함수\n",
    "\n",
    "arr_full = np.full((4, 5), 7)\n",
    "print(arr_full)\n",
    "print(arr_full.dtype, arr_full.shape)"
   ]
  },
  {
   "cell_type": "code",
   "execution_count": 29,
   "id": "4b7eff89",
   "metadata": {},
   "outputs": [
    {
     "name": "stdout",
     "output_type": "stream",
     "text": [
      "[[1. 0. 0. 0. 0.]\n",
      " [0. 1. 0. 0. 0.]\n",
      " [0. 0. 1. 0. 0.]\n",
      " [0. 0. 0. 1. 0.]\n",
      " [0. 0. 0. 0. 1.]]\n"
     ]
    }
   ],
   "source": [
    "# eye(N) : (N, N)의 단위행렬 생성\n",
    "arr_eye = np.eye(5)\n",
    "print(arr_eye)"
   ]
  },
  {
   "cell_type": "code",
   "execution_count": 30,
   "id": "8be6c5e6",
   "metadata": {},
   "outputs": [
    {
     "name": "stdout",
     "output_type": "stream",
     "text": [
      "[[0.00e+000 0.00e+000 0.00e+000]\n",
      " [0.00e+000 0.00e+000 6.84e-321]\n",
      " [0.00e+000 0.00e+000 0.00e+000]]\n"
     ]
    }
   ],
   "source": [
    "# empty((행, 열)) : 초기화 없이 기존 메모리 값이 들어감.\n",
    "arr_empty = np.empty((3, 3))\n",
    "print(arr_empty)"
   ]
  },
  {
   "cell_type": "code",
   "execution_count": 31,
   "id": "3c36c9ec",
   "metadata": {},
   "outputs": [
    {
     "name": "stdout",
     "output_type": "stream",
     "text": [
      "[[1 1 1]\n",
      " [1 1 1]]\n"
     ]
    }
   ],
   "source": [
    "#_like(배열) 지정한 배열과 동일한 shape의 행렬을 만듦.\n",
    "# 종류 : np.zeros_like(), np.ones_like(), np.full_like(), np.empty_like()\n",
    "\n",
    "arr_sample = np.array([[1, 2, 3],[4, 5, 6]]) #2행 3열\n",
    "arr_like = np.ones_like(arr_sample)\n",
    "print(arr_like) #2행 3열 1로 채우기"
   ]
  },
  {
   "cell_type": "code",
   "execution_count": 32,
   "id": "306b70ec",
   "metadata": {},
   "outputs": [
    {
     "name": "stdout",
     "output_type": "stream",
     "text": [
      "[ 1.    3.25  5.5   7.75 10.  ]\n"
     ]
    }
   ],
   "source": [
    "# 배열 데이터 생성 함수\n",
    "# np.linspace(start, end, n) : n개 만큼 시작과 종료 사이에 균등하게 분배\n",
    "arr_lins = np.linspace(1, 10, 5)\n",
    "print(arr_lins)"
   ]
  },
  {
   "cell_type": "code",
   "execution_count": 33,
   "id": "71e3152f",
   "metadata": {},
   "outputs": [
    {
     "data": {
      "text/plain": [
       "<function matplotlib.pyplot.show(close=None, block=None)>"
      ]
     },
     "execution_count": 33,
     "metadata": {},
     "output_type": "execute_result"
    },
    {
     "data": {
      "image/png": "[encoded data removed]",
      "text/plain": [
       "<Figure size 640x480 with 1 Axes>"
      ]
     },
     "metadata": {},
     "output_type": "display_data"
    }
   ],
   "source": [
    "# import matplotlib.pyplot as plt  위에서 선언.\n",
    "plt.plot(arr_lins, 'o') # 그래프를 만들어 주는 함수 마커를 원('o')로 표시\n",
    "\n",
    "plt.show"
   ]
  },
  {
   "cell_type": "code",
   "execution_count": 35,
   "id": "bfe67b65",
   "metadata": {},
   "outputs": [
    {
     "name": "stdout",
     "output_type": "stream",
     "text": [
      "[ 1  3  5  7  9 11 13 15 17 19]\n",
      "int32 (10,)\n"
     ]
    }
   ],
   "source": [
    "# np.arange(start, end, step) : 시작과 종료를 스탭 간격으로 생성().\n",
    "\n",
    "seq_arr = np.arange(1,20,2)\n",
    "print(seq_arr)\n",
    "print(seq_arr.dtype, seq_arr.shape)"
   ]
  },
  {
   "cell_type": "code",
   "execution_count": 36,
   "id": "3081610f",
   "metadata": {},
   "outputs": [
    {
     "data": {
      "text/plain": [
       "<function matplotlib.pyplot.show(close=None, block=None)>"
      ]
     },
     "execution_count": 36,
     "metadata": {},
     "output_type": "execute_result"
    },
    {
     "data": {
      "image/png": "[encoded data removed]",
      "text/plain": [
       "<Figure size 640x480 with 1 Axes>"
      ]
     },
     "metadata": {},
     "output_type": "display_data"
    }
   ],
   "source": [
    "plt.plot(seq_arr, 'v') # 그래프를 만들어 주는 함수 마커를 역삼각형('v')로 표시\n",
    "plt.show"
   ]
  },
  {
   "cell_type": "markdown",
   "id": "29dbf79d",
   "metadata": {},
   "source": [
    "# ndarray의 차원과 크기를 변경하는 reshape()"
   ]
  },
  {
   "cell_type": "code",
   "execution_count": 39,
   "id": "316a2deb",
   "metadata": {},
   "outputs": [
    {
     "name": "stdout",
     "output_type": "stream",
     "text": [
      "array1: \n",
      " [0 1 2 3 4 5 6 7 8 9]\n",
      "array2: \n",
      " [[0 1 2 3 4]\n",
      " [5 6 7 8 9]]\n",
      "array2: \n",
      " [[0 1]\n",
      " [2 3]\n",
      " [4 5]\n",
      " [6 7]\n",
      " [8 9]]\n"
     ]
    }
   ],
   "source": [
    "array1 = np.arange(10)\n",
    "print('array1: \\n',array1)\n",
    "\n",
    "array2 = array1.reshape(2,5)\n",
    "print('array2: \\n',array2)\n",
    "\n",
    "array2 = array1.reshape(5,2)\n",
    "print('array2: \\n',array2)"
   ]
  },
  {
   "cell_type": "code",
   "execution_count": 40,
   "id": "6dd59500",
   "metadata": {},
   "outputs": [
    {
     "ename": "ValueError",
     "evalue": "cannot reshape array of size 10 into shape (4,3)",
     "output_type": "error",
     "traceback": [
      "\u001b[1;31m---------------------------------------------------------------------------\u001b[0m",
      "\u001b[1;31mValueError\u001b[0m                                Traceback (most recent call last)",
      "\u001b[1;32m~\\AppData\\Local\\Temp\\ipykernel_9852\\844733705.py\u001b[0m in \u001b[0;36m<module>\u001b[1;34m\u001b[0m\n\u001b[1;32m----> 1\u001b[1;33m \u001b[0marray1\u001b[0m\u001b[1;33m.\u001b[0m\u001b[0mreshape\u001b[0m\u001b[1;33m(\u001b[0m\u001b[1;36m4\u001b[0m\u001b[1;33m,\u001b[0m \u001b[1;36m3\u001b[0m\u001b[1;33m)\u001b[0m\u001b[1;33m\u001b[0m\u001b[1;33m\u001b[0m\u001b[0m\n\u001b[0m",
      "\u001b[1;31mValueError\u001b[0m: cannot reshape array of size 10 into shape (4,3)"
     ]
    }
   ],
   "source": [
    "array1.reshape(4, 3)"
   ]
  },
  {
   "cell_type": "code",
   "execution_count": 44,
   "id": "07678268",
   "metadata": {},
   "outputs": [
    {
     "name": "stdout",
     "output_type": "stream",
     "text": [
      "[0 1 2 3 4 5 6 7 8 9]\n",
      "[[0 1 2 3 4]\n",
      " [5 6 7 8 9]]\n",
      "array2 shape  (2, 5)\n",
      "[[0 1]\n",
      " [2 3]\n",
      " [4 5]\n",
      " [6 7]\n",
      " [8 9]]\n",
      "array3 shape  (5, 2)\n"
     ]
    }
   ],
   "source": [
    "array1 = np.arange(10)\n",
    "print(array1)\n",
    "\n",
    "array2 = array1.reshape(-1, 5) # 양수에 포커스 맞추기 (행의 개수는 상관이 없다.)\n",
    "print(array2)\n",
    "print('array2 shape ',array2.shape)\n",
    "\n",
    "array3 = array1.reshape(5, -1) # 양수에 포커스 맞추기 (열의 개수는 상관이 없다.)\n",
    "print(array3)\n",
    "print('array3 shape ',array3.shape)"
   ]
  },
  {
   "cell_type": "code",
   "execution_count": 45,
   "id": "4624efba",
   "metadata": {},
   "outputs": [
    {
     "ename": "ValueError",
     "evalue": "cannot reshape array of size 10 into shape (4)",
     "output_type": "error",
     "traceback": [
      "\u001b[1;31m---------------------------------------------------------------------------\u001b[0m",
      "\u001b[1;31mValueError\u001b[0m                                Traceback (most recent call last)",
      "\u001b[1;32m~\\AppData\\Local\\Temp\\ipykernel_9852\\2421950864.py\u001b[0m in \u001b[0;36m<module>\u001b[1;34m\u001b[0m\n\u001b[0;32m      1\u001b[0m \u001b[0marray1\u001b[0m \u001b[1;33m=\u001b[0m \u001b[0mnp\u001b[0m\u001b[1;33m.\u001b[0m\u001b[0marange\u001b[0m\u001b[1;33m(\u001b[0m\u001b[1;36m10\u001b[0m\u001b[1;33m)\u001b[0m\u001b[1;33m\u001b[0m\u001b[1;33m\u001b[0m\u001b[0m\n\u001b[1;32m----> 2\u001b[1;33m \u001b[0marray4\u001b[0m \u001b[1;33m=\u001b[0m \u001b[0marray1\u001b[0m\u001b[1;33m.\u001b[0m\u001b[0mreshape\u001b[0m\u001b[1;33m(\u001b[0m\u001b[1;33m-\u001b[0m\u001b[1;36m1\u001b[0m\u001b[1;33m,\u001b[0m\u001b[1;36m4\u001b[0m\u001b[1;33m)\u001b[0m \u001b[1;31m#고정된 4개의 열을 가진 행 변경 불가로 에러 발생\u001b[0m\u001b[1;33m\u001b[0m\u001b[1;33m\u001b[0m\u001b[0m\n\u001b[0m",
      "\u001b[1;31mValueError\u001b[0m: cannot reshape array of size 10 into shape (4)"
     ]
    }
   ],
   "source": [
    "array1 = np.arange(10)\n",
    "array4 = array1.reshape(-1,4) #고정된 4개의 열을 가진 행 변경 불가로 에러 발생"
   ]
  },
  {
   "cell_type": "code",
   "execution_count": 46,
   "id": "6af59655",
   "metadata": {},
   "outputs": [
    {
     "name": "stdout",
     "output_type": "stream",
     "text": [
      "array3d:\n",
      " [[[0, 1], [2, 3]], [[4, 5], [6, 7]]]\n"
     ]
    }
   ],
   "source": [
    "array1 = np.arange(8)\n",
    "array3d = array1.reshape((2, 2, 2))\n",
    "print('array3d:\\n', array3d.tolist())\n"
   ]
  },
  {
   "cell_type": "code",
   "execution_count": 51,
   "id": "5aa4a0f6",
   "metadata": {},
   "outputs": [
    {
     "name": "stdout",
     "output_type": "stream",
     "text": [
      "array5:\n",
      " [[0], [1], [2], [3], [4], [5], [6], [7]]\n",
      "(8, 1)\n"
     ]
    }
   ],
   "source": [
    "# 3차원 ndarray를 2차원 ndarray 로 변환 #알고리즘에 데이터를 집어넣기 위해선 2차원으로 변환이 필요\n",
    "array5 = array3d.reshape(-1, 1)  #차원축소\n",
    "print('array5:\\n', array5.tolist())\n",
    "print(array5.shape)"
   ]
  },
  {
   "cell_type": "code",
   "execution_count": 50,
   "id": "e5a4befe",
   "metadata": {},
   "outputs": [
    {
     "name": "stdout",
     "output_type": "stream",
     "text": [
      "array6:\n",
      " [[0], [1], [2], [3], [4], [5], [6], [7]]\n",
      "(8, 1)\n"
     ]
    }
   ],
   "source": [
    "# 1차원 ndarray를 2차원 ndarray 로 변환 \n",
    "array6 = array1.reshape(-1,1)\n",
    "print('array6:\\n', array6.tolist())\n",
    "print(array6.shape)"
   ]
  },
  {
   "cell_type": "markdown",
   "id": "30a85d12",
   "metadata": {},
   "source": [
    "### indexing - numpy ndarray의 데이터 세트 선택하기"
   ]
  },
  {
   "cell_type": "markdown",
   "id": "4d0f471b",
   "metadata": {},
   "source": [
    "* 단일 값 추출"
   ]
  },
  {
   "cell_type": "code",
   "execution_count": 55,
   "id": "737928aa",
   "metadata": {},
   "outputs": [
    {
     "name": "stdout",
     "output_type": "stream",
     "text": [
      "array1:  [1 2 3 4 5 6 7 8 9]\n",
      "value :  3\n"
     ]
    }
   ],
   "source": [
    "#1에서 부터 9까지의 1차원 ndarray 생성\n",
    "\n",
    "array1 = np.arange(start = 1, stop = 10)\n",
    "print('array1: ',array1)\n",
    "\n",
    "value = array1[2]\n",
    "print('value : ',value)"
   ]
  },
  {
   "cell_type": "code",
   "execution_count": 56,
   "id": "e5d2d597",
   "metadata": {},
   "outputs": [
    {
     "name": "stdout",
     "output_type": "stream",
     "text": [
      "맨뒤의 값 :  9 맨뒤에서 두번쨰 값 :  8\n"
     ]
    }
   ],
   "source": [
    "print('맨뒤의 값 : ', array1[-1], '맨뒤에서 두번쨰 값 : ', array1[-2])"
   ]
  },
  {
   "cell_type": "code",
   "execution_count": 58,
   "id": "899ec291",
   "metadata": {},
   "outputs": [
    {
     "name": "stdout",
     "output_type": "stream",
     "text": [
      "array1:  [9 2 3 4 5 6 7 8 0]\n"
     ]
    }
   ],
   "source": [
    "#데이터 값 수정\n",
    "array1[0] = 9\n",
    "array1[8] = 0\n",
    "print('array1: ', array1)"
   ]
  },
  {
   "cell_type": "code",
   "execution_count": 63,
   "id": "c7dcd337",
   "metadata": {},
   "outputs": [
    {
     "name": "stdout",
     "output_type": "stream",
     "text": [
      "[[1 2 3]\n",
      " [4 5 6]\n",
      " [7 8 9]]\n",
      "(row=0, col=0) index 가리키는 값 :  1\n",
      "(row=0, col=1) index 가리키는 값 :  2\n",
      "(row=1, col=2) index 가리키는 값 :  6\n",
      "(row=2, col=2) index 가리키는 값 :  9\n"
     ]
    }
   ],
   "source": [
    "# 2차원 nbarray\n",
    "array1d = np.arange(start = 1, stop = 10)\n",
    "array2d = array1d.reshape(3, 3)\n",
    "print(array2d)\n",
    "\n",
    "print('(row=0, col=0) index 가리키는 값 : ', array2d[0, 0])\n",
    "print('(row=0, col=1) index 가리키는 값 : ', array2d[0, 1])\n",
    "print('(row=1, col=2) index 가리키는 값 : ', array2d[1, 2])\n",
    "print('(row=2, col=2) index 가리키는 값 : ', array2d[2, 2])"
   ]
  },
  {
   "cell_type": "markdown",
   "id": "d6b6eeac",
   "metadata": {},
   "source": [
    "* slicing"
   ]
  },
  {
   "cell_type": "code",
   "execution_count": 65,
   "id": "8ecb738a",
   "metadata": {},
   "outputs": [
    {
     "name": "stdout",
     "output_type": "stream",
     "text": [
      "[1 2 3]\n",
      "<class 'numpy.ndarray'>\n"
     ]
    }
   ],
   "source": [
    "array1 = np.arange(1, 10)\n",
    "array2 = array1[0:3] # 3 직전까지\n",
    "print(array2)\n",
    "print(type(array2))"
   ]
  },
  {
   "cell_type": "code",
   "execution_count": 68,
   "id": "2bef0b9a",
   "metadata": {},
   "outputs": [
    {
     "name": "stdout",
     "output_type": "stream",
     "text": [
      "[1 2 3]\n",
      "[4 5 6 7 8 9]\n",
      "[1 2 3 4 5 6 7 8 9]\n"
     ]
    }
   ],
   "source": [
    "# 슬라이싱 기호인 ':' 사이의 시작, 종료 인덱스는 생략 가능.\n",
    "\n",
    "array1 = np.arange(1, 10)\n",
    "\n",
    "array3 = array1[:3]\n",
    "print(array3)\n",
    "\n",
    "array4 = array1[3:]\n",
    "print(array4)\n",
    "\n",
    "array5 = array1[:]\n",
    "print(array5)"
   ]
  },
  {
   "cell_type": "code",
   "execution_count": 76,
   "id": "871f7ae2",
   "metadata": {},
   "outputs": [
    {
     "name": "stdout",
     "output_type": "stream",
     "text": [
      "array2d:\n",
      " [[1 2 3]\n",
      " [4 5 6]\n",
      " [7 8 9]]\n",
      "array2d[0:2, 0:2]\n",
      " [[1 2]\n",
      " [4 5]]\n",
      "array2d[1:3, 0:3]\n",
      " [[4 5 6]\n",
      " [7 8 9]]\n",
      "array2d[1:3, ]\n",
      " [[4 5 6]\n",
      " [7 8 9]]\n",
      "array2d[:2, 1:]\n",
      " [[2 3]\n",
      " [5 6]]\n",
      "array2d[0:2, 0]\n",
      " [1 4]\n"
     ]
    }
   ],
   "source": [
    "# 2차원 ndarray에서 슬라이싱으로 데이터 접근 [x:y] = x부터 y-1까지\n",
    "array1d = np.arange(1, 10)\n",
    "array2d = array1d.reshape(3, 3)\n",
    "print('array2d:\\n', array2d)\n",
    "\n",
    "print('array2d[0:2, 0:2]\\n',array2d[0:2, 0:2])\n",
    "\n",
    "print('array2d[1:3, 0:3]\\n',array2d[1:3, 0:3])\n",
    "\n",
    "print('array2d[1:3, ]\\n',array2d[1:3, ])\n",
    "\n",
    "print('array2d[:2, 1:]\\n',array2d[:2, 1:])\n",
    "\n",
    "print('array2d[0:2, 0]\\n',array2d[0:2, 0])"
   ]
  },
  {
   "cell_type": "code",
   "execution_count": 80,
   "id": "d515b783",
   "metadata": {},
   "outputs": [
    {
     "name": "stdout",
     "output_type": "stream",
     "text": [
      "[1 2 3]\n",
      "[4 5 6]\n",
      "[7 8 9]\n",
      "array2d[0] shape :  (3,) array2d[1] shape :  (3,)\n"
     ]
    }
   ],
   "source": [
    "# 2차원 ndarray에서 뒤에오는 인덱스를 없에면 1차원의 ndarray를 반환.\n",
    "\n",
    "print(array2d[0]) #vector의 자료형으로 반환, row축 (axis 0)의 첫번째 row ndarray(1차원)을 반환.\n",
    "print(array2d[1])\n",
    "print(array2d[2])\n",
    "print('array2d[0] shape : ', array2d[0].shape, 'array2d[1] shape : ', array2d[1].shape)"
   ]
  },
  {
   "cell_type": "markdown",
   "id": "deb23086",
   "metadata": {},
   "source": [
    "* fancy indexing"
   ]
  },
  {
   "cell_type": "code",
   "execution_count": 85,
   "id": "e14a1831",
   "metadata": {},
   "outputs": [
    {
     "name": "stdout",
     "output_type": "stream",
     "text": [
      "[[1 2 3]\n",
      " [4 5 6]\n",
      " [7 8 9]]\n",
      "array2d[[0,1], 2] =>  [3, 6]\n",
      "array2d[[0,1], 0:2] =>  [[1, 2], [4, 5]]\n",
      "array2d[[0, 1]] =>  [[1, 2, 3], [4, 5, 6]]\n"
     ]
    }
   ],
   "source": [
    "array1d = np.arange(1, 10)\n",
    "array2d = array1d.reshape(3, 3)\n",
    "print(array2d)\n",
    "\n",
    "array3 = array2d[[0,1], 2]\n",
    "print('array2d[[0,1], 2] => ', array3.tolist())\n",
    "\n",
    "array4 = array2d[[0,1], 0:2]\n",
    "print('array2d[[0,1], 0:2] => ', array4.tolist())\n",
    "\n",
    "array5 = array2d[[0, 1]]\n",
    "print('array2d[[0, 1]] => ', array5.tolist())"
   ]
  },
  {
   "cell_type": "markdown",
   "id": "5cfa6b1a",
   "metadata": {},
   "source": [
    "* Boolean indexing : 조건 필터링과 검색을 동시에 할 수 있기 때문에 자주 사용."
   ]
  },
  {
   "cell_type": "code",
   "execution_count": 88,
   "id": "e07c7d4b",
   "metadata": {},
   "outputs": [
    {
     "name": "stdout",
     "output_type": "stream",
     "text": [
      "array1d > 5 불린 인덱싱 결과 값 :  [6 7 8 9]\n"
     ]
    }
   ],
   "source": [
    "array1d = np.arange(1, 10)\n",
    "array3 = array1d[array1d > 5] #[]안에 array1d > 5 :boolean indexing을 적용\n",
    "print( 'array1d > 5 불린 인덱싱 결과 값 : ', array3)"
   ]
  },
  {
   "cell_type": "code",
   "execution_count": 87,
   "id": "5aef6bd8",
   "metadata": {},
   "outputs": [
    {
     "data": {
      "text/plain": [
       "array([False, False, False, False, False,  True,  True,  True,  True])"
      ]
     },
     "execution_count": 87,
     "metadata": {},
     "output_type": "execute_result"
    }
   ],
   "source": [
    "array1d > 5"
   ]
  },
  {
   "cell_type": "code",
   "execution_count": 99,
   "id": "1e318da6",
   "metadata": {},
   "outputs": [
    {
     "name": "stdout",
     "output_type": "stream",
     "text": [
      "[False False False False False  True  True  True  True]\n",
      "불린 인덱스 필터링 결과 :  [6 7 8 9]\n"
     ]
    }
   ],
   "source": [
    "boolean_indexes = np.array([False, False, False, False, False,  True,  True,  True,  True])\n",
    "print(boolean_indexes)\n",
    "\n",
    "array3 = array1d[boolean_indexes]\n",
    "print('불린 인덱스 필터링 결과 : ',array3)"
   ]
  },
  {
   "cell_type": "code",
   "execution_count": 98,
   "id": "574f2654",
   "metadata": {},
   "outputs": [
    {
     "name": "stdout",
     "output_type": "stream",
     "text": [
      "일반 인덱스 필터링 결과 :  [6 7 8 9]\n"
     ]
    }
   ],
   "source": [
    "indexes = np.array([5, 6, 7, 8])\n",
    "array4 = array1d[indexes]\n",
    "print('일반 인덱스 필터링 결과 : ',array4)"
   ]
  },
  {
   "cell_type": "markdown",
   "id": "1162e4ed",
   "metadata": {},
   "source": [
    "## 행렬의 장렬 - sort()와 argsort()\n",
    "* 행렬 정렬"
   ]
  },
  {
   "cell_type": "code",
   "execution_count": 104,
   "id": "7055f812",
   "metadata": {},
   "outputs": [
    {
     "name": "stdout",
     "output_type": "stream",
     "text": [
      "np.sort() 호출 전 원본 행렬 :  [3 1 9 5]\n",
      "np.sort() 호출 후 반환된 정렬 행렬 :  [1 3 5 9]\n",
      "np.sort() 호출 전 원본 행렬 :  [1 3 5 9]\n",
      "np.sort() 호출 후 반환된 정렬 행렬 :  None\n"
     ]
    }
   ],
   "source": [
    "org_array = np.array([3, 1, 9, 5])\n",
    "\n",
    "#np.sort()로 정렬\n",
    "sort_array1 = np.sort(org_array)\n",
    "print('np.sort() 호출 전 원본 행렬 : ', org_array)\n",
    "print('np.sort() 호출 후 반환된 정렬 행렬 : ', sort_array1)\n",
    "\n",
    "# 주의) ndarray.sort()로 정렬\n",
    "sort_array2 = org_array.sort()\n",
    "print('np.sort() 호출 전 원본 행렬 : ', org_array)\n",
    "print('np.sort() 호출 후 반환된 정렬 행렬 : ', sort_array2)"
   ]
  },
  {
   "cell_type": "code",
   "execution_count": 105,
   "id": "729a8f92",
   "metadata": {},
   "outputs": [
    {
     "name": "stdout",
     "output_type": "stream",
     "text": [
      "[9 5 3 1]\n"
     ]
    }
   ],
   "source": [
    "sort_array1_desc = np.sort(org_array)[::-1]\n",
    "print('내림차순 변경 : 'sort_array1_desc)"
   ]
  },
  {
   "cell_type": "code",
   "execution_count": 140,
   "id": "69a4177b",
   "metadata": {},
   "outputs": [
    {
     "name": "stdout",
     "output_type": "stream",
     "text": [
      "[[ 7  1]\n",
      " [ 8 12]]\n",
      "[[ 8 12]\n",
      " [ 1  7]]\n"
     ]
    }
   ],
   "source": [
    "array2d = np.array([[8, 12],\n",
    "                   [7, 1]])\n",
    "\n",
    "sort_array2_axist0 = np.sort(array2d, axis = 0)\n",
    "sort_array2_axist1 = np.sort(array2d, axis = 1)\n",
    "\n",
    "print(sort_array2_axist0)\n",
    "print(sort_array2_axist1)"
   ]
  },
  {
   "cell_type": "markdown",
   "id": "33efafa9",
   "metadata": {},
   "source": [
    "* 정렬 행렬의 인덱스 반환"
   ]
  },
  {
   "cell_type": "code",
   "execution_count": 109,
   "id": "2f81e60d",
   "metadata": {},
   "outputs": [
    {
     "name": "stdout",
     "output_type": "stream",
     "text": [
      "행렬 정렬 시 원본 행렬의 인덱스 :  [1 0 3 2] <class 'numpy.ndarray'>\n"
     ]
    }
   ],
   "source": [
    "org_array = np.array([3, 1, 9, 5])\n",
    "sort_indi = np.argsort(org_array)\n",
    "print('행렬 정렬 시 원본 행렬의 인덱스 : ', sort_indi, type(sort_indi))"
   ]
  },
  {
   "cell_type": "code",
   "execution_count": 112,
   "id": "016a917d",
   "metadata": {},
   "outputs": [
    {
     "name": "stdout",
     "output_type": "stream",
     "text": [
      "행렬 내림차순 정렬 시 원본 행렬의 인덱스 :  [2 3 0 1] <class 'numpy.ndarray'>\n"
     ]
    }
   ],
   "source": [
    "org_array = np.array([3, 1, 9, 5])\n",
    "sort_indi_desc = np.argsort(org_array)[::-1]\n",
    "print('행렬 내림차순 정렬 시 원본 행렬의 인덱스 : ', sort_indi_desc, type(sort_indi_desc))"
   ]
  },
  {
   "cell_type": "code",
   "execution_count": 126,
   "id": "b939cbfa",
   "metadata": {},
   "outputs": [
    {
     "name": "stdout",
     "output_type": "stream",
     "text": [
      "성적을 오름차순 정렬시 score_array의 인덱스 :  [0 2 4 1 3]\n",
      "성적을 오름차순으로 name_array의 이름을 출력  :  ['John' 'Sarah' 'Samuel' 'Mike' 'Kate']\n"
     ]
    }
   ],
   "source": [
    "name_array = np.array(['John', 'Mike', 'Sarah', 'Kate', 'Samuel'])\n",
    "score_array = np.array([77, 95, 84, 98, 88])\n",
    "\n",
    "sort_indi_asc = np.argsort(score_array) #인덱스 값을 반환 \n",
    "print('성적을 오름차순 정렬시 score_array의 인덱스 : ', sort_indi_asc)\n",
    "print('성적을 오름차순으로 name_array의 이름을 출력  : ', name_array[sort_indi_asc])"
   ]
  },
  {
   "cell_type": "markdown",
   "id": "98fc5b15",
   "metadata": {},
   "source": [
    "## 선형대수 연산\n",
    "\n",
    "* list vs ndarray"
   ]
  },
  {
   "cell_type": "code",
   "execution_count": 116,
   "id": "226199b8",
   "metadata": {},
   "outputs": [
    {
     "name": "stdout",
     "output_type": "stream",
     "text": [
      "[1, 2, 3, 4, 5, 6] <class 'list'>\n"
     ]
    }
   ],
   "source": [
    "x1 = [1, 2 ,3]\n",
    "x2 = [4, 5, 6]\n",
    "\n",
    "x3 = x1 + x2\n",
    "print(x3, type(x3))"
   ]
  },
  {
   "cell_type": "code",
   "execution_count": 118,
   "id": "a89e9ec6",
   "metadata": {},
   "outputs": [
    {
     "name": "stdout",
     "output_type": "stream",
     "text": [
      "[5 7 9] <class 'numpy.ndarray'>\n"
     ]
    }
   ],
   "source": [
    "x4 = np.array([1, 2, 3])\n",
    "x5 = np.array([4, 5, 6])\n",
    "x6 = x4 + x5\n",
    "\n",
    "print(x6, type(x6))\n"
   ]
  },
  {
   "cell_type": "code",
   "execution_count": 120,
   "id": "67ddf6dc",
   "metadata": {},
   "outputs": [
    {
     "name": "stdout",
     "output_type": "stream",
     "text": [
      "1\n",
      "[11 12 13]\n",
      "2\n",
      "[12 13 14]\n",
      "3\n",
      "[13 14 15]\n"
     ]
    }
   ],
   "source": [
    "x = np.array([10, 11, 12])\n",
    "for i in np.arange(1, 4):\n",
    "    print(i)\n",
    "    print(i+x)"
   ]
  },
  {
   "cell_type": "code",
   "execution_count": 121,
   "id": "4a837afd",
   "metadata": {},
   "outputs": [
    {
     "name": "stdout",
     "output_type": "stream",
     "text": [
      "[[ 5  5  5]\n",
      " [10 10 10]]\n"
     ]
    }
   ],
   "source": [
    "# 2차원 행렬(numpy, ndarray)의 사칙 연산\n",
    "# 덧셈\n",
    "x1= np.array([[4, 4, 4],[8, 8, 8]])\n",
    "x2= np.array([[1, 1, 1],[2, 2, 2]])\n",
    "\n",
    "print(x1 + x2)"
   ]
  },
  {
   "cell_type": "code",
   "execution_count": 122,
   "id": "363b4360",
   "metadata": {},
   "outputs": [
    {
     "name": "stdout",
     "output_type": "stream",
     "text": [
      "[[40 40 40]\n",
      " [80 80 80]]\n"
     ]
    }
   ],
   "source": [
    "# 스칼라 x 행렬\n",
    "x = np.array([[4, 4, 4],[8, 8, 8]])\n",
    "scar_arr = 10* x\n",
    "print(scar_arr)"
   ]
  },
  {
   "cell_type": "code",
   "execution_count": 124,
   "id": "c93cc0e4",
   "metadata": {},
   "outputs": [
    {
     "name": "stdout",
     "output_type": "stream",
     "text": [
      "[[ 1  2]\n",
      " [ 8 10]]\n"
     ]
    }
   ],
   "source": [
    "# 행렬 x 행렬\n",
    "x1 = np.array([[1, 2],[4, 5]]) #2행 2열\n",
    "x2 = np.array([[1, 1],[2, 2]]) #2행 2열\n",
    "print(x1 * x2)"
   ]
  },
  {
   "cell_type": "code",
   "execution_count": 125,
   "id": "0c77a7e2",
   "metadata": {},
   "outputs": [
    {
     "name": "stdout",
     "output_type": "stream",
     "text": [
      "[[14 14]\n",
      " [32 32]]\n"
     ]
    }
   ],
   "source": [
    "# 행렬 x 행렬 #내적연산\n",
    "x1 = np.array([[1, 2, 3],[4, 5, 6]]) #2행 3열\n",
    "x2 = np.array([[1, 1],[2, 2],[3, 3]]) #3행 2열\n",
    "print(x1.dot(x2))"
   ]
  },
  {
   "cell_type": "markdown",
   "id": "938c8e05",
   "metadata": {},
   "source": [
    "* 전치 행렬"
   ]
  },
  {
   "cell_type": "code",
   "execution_count": 128,
   "id": "aad1e0d0",
   "metadata": {},
   "outputs": [
    {
     "name": "stdout",
     "output_type": "stream",
     "text": [
      "A의 전치행렬 : \n",
      "  [[1 4]\n",
      " [2 5]\n",
      " [3 6]]\n"
     ]
    }
   ],
   "source": [
    "A =np.array([[1, 2, 3],\n",
    "             [4, 5, 6]])\n",
    "\n",
    "transpose_mat = np.transpose(A)\n",
    "print('A의 전치행렬 : \\n ', transpose_mat)"
   ]
  },
  {
   "cell_type": "code",
   "execution_count": 130,
   "id": "70c11946",
   "metadata": {},
   "outputs": [
    {
     "name": "stdout",
     "output_type": "stream",
     "text": [
      "[[51 52]\n",
      " [53 54]\n",
      " [55 56]]\n",
      "55\n",
      "55\n"
     ]
    }
   ],
   "source": [
    "data = np.array([[51, 52], [53, 54], [55, 56]]) #(3, 2)\n",
    "print(data)\n",
    "print(data[2, 0])\n",
    "print(data[2][0])"
   ]
  },
  {
   "cell_type": "code",
   "execution_count": 132,
   "id": "e2bd8868",
   "metadata": {},
   "outputs": [
    {
     "ename": "TypeError",
     "evalue": "order must be str, not numpy.int32",
     "output_type": "error",
     "traceback": [
      "\u001b[1;31m---------------------------------------------------------------------------\u001b[0m",
      "\u001b[1;31mTypeError\u001b[0m                                 Traceback (most recent call last)",
      "\u001b[1;32m~\\AppData\\Local\\Temp\\ipykernel_9852\\3142152438.py\u001b[0m in \u001b[0;36m<module>\u001b[1;34m\u001b[0m\n\u001b[1;32m----> 1\u001b[1;33m \u001b[0my\u001b[0m \u001b[1;33m=\u001b[0m \u001b[0mdata\u001b[0m\u001b[1;33m.\u001b[0m\u001b[0mflatten\u001b[0m\u001b[1;33m(\u001b[0m\u001b[0mdata\u001b[0m\u001b[1;33m[\u001b[0m\u001b[1;36m2\u001b[0m\u001b[1;33m,\u001b[0m \u001b[1;36m0\u001b[0m\u001b[1;33m]\u001b[0m\u001b[1;33m)\u001b[0m\u001b[1;33m\u001b[0m\u001b[1;33m\u001b[0m\u001b[0m\n\u001b[0m\u001b[0;32m      2\u001b[0m \u001b[0mprint\u001b[0m\u001b[1;33m(\u001b[0m\u001b[0my\u001b[0m\u001b[1;33m)\u001b[0m\u001b[1;33m\u001b[0m\u001b[1;33m\u001b[0m\u001b[0m\n",
      "\u001b[1;31mTypeError\u001b[0m: order must be str, not numpy.int32"
     ]
    }
   ],
   "source": [
    "y = data.flatten(data[2, 0])\n",
    "print(y)"
   ]
  },
  {
   "cell_type": "code",
   "execution_count": 2,
   "id": "ff4590e2",
   "metadata": {},
   "outputs": [
    {
     "name": "stdout",
     "output_type": "stream",
     "text": [
      "[ 0  1  2  3  4  5  6  7  8  9 10 11 12 13 14 15 16 17 18 19 20 21 22 23]\n"
     ]
    }
   ],
   "source": [
    "## - Numpy에서 np.sum함수의 acis의 이해\n",
    "import numpy as np\n",
    "import matplotlib.pyplot as plt \n",
    "\n",
    "arr = np.arange(0, 24)\n",
    "print(arr)"
   ]
  },
  {
   "cell_type": "code",
   "execution_count": 4,
   "id": "4f7b7c67",
   "metadata": {},
   "outputs": [
    {
     "data": {
      "text/plain": [
       "array([[[ 0,  1,  2,  3],\n",
       "        [ 4,  5,  6,  7],\n",
       "        [ 8,  9, 10, 11]],\n",
       "\n",
       "       [[12, 13, 14, 15],\n",
       "        [16, 17, 18, 19],\n",
       "        [20, 21, 22, 23]]])"
      ]
     },
     "execution_count": 4,
     "metadata": {},
     "output_type": "execute_result"
    }
   ],
   "source": [
    "v = arr.reshape([2, 3, 4]) # 차원변환 ([z축(depth), x축(row), y축(column)]) \n",
    "v"
   ]
  },
  {
   "cell_type": "code",
   "execution_count": 5,
   "id": "b84ee87b",
   "metadata": {},
   "outputs": [
    {
     "name": "stdout",
     "output_type": "stream",
     "text": [
      "(2, 3, 4)\n",
      "3\n",
      "276\n"
     ]
    }
   ],
   "source": [
    "print(v.shape)\n",
    "print(v.ndim)\n",
    "print(v.sum())"
   ]
  },
  {
   "cell_type": "code",
   "execution_count": 6,
   "id": "ef6d79fc",
   "metadata": {},
   "outputs": [
    {
     "name": "stdout",
     "output_type": "stream",
     "text": [
      "(3, 4)\n",
      "[[12 14 16 18]\n",
      " [20 22 24 26]\n",
      " [28 30 32 34]]\n"
     ]
    }
   ],
   "source": [
    "res01 = v.sum(axis = 0)\n",
    "print(res01.shape)\n",
    "print(res01)"
   ]
  },
  {
   "cell_type": "code",
   "execution_count": 7,
   "id": "bea4a027",
   "metadata": {},
   "outputs": [
    {
     "name": "stdout",
     "output_type": "stream",
     "text": [
      "(2, 4)\n",
      "[[12 15 18 21]\n",
      " [48 51 54 57]]\n"
     ]
    }
   ],
   "source": [
    "res02 = v.sum(axis = 1)\n",
    "print(res02.shape)\n",
    "print(res02)"
   ]
  },
  {
   "cell_type": "code",
   "execution_count": 8,
   "id": "e47c6ee7",
   "metadata": {},
   "outputs": [
    {
     "name": "stdout",
     "output_type": "stream",
     "text": [
      "(2, 3)\n",
      "[[ 6 22 38]\n",
      " [54 70 86]]\n"
     ]
    }
   ],
   "source": [
    "res03 = v.sum(axis = 2)\n",
    "print(res03.shape)\n",
    "print(res03)"
   ]
  },
  {
   "cell_type": "code",
   "execution_count": null,
   "id": "f9e376d5",
   "metadata": {},
   "outputs": [],
   "source": []
  }
 ],
 "metadata": {
  "kernelspec": {
   "display_name": "Python 3 (ipykernel)",
   "language": "python",
   "name": "python3"
  },
  "language_info": {
   "codemirror_mode": {
    "name": "ipython",
    "version": 3
   },
   "file_extension": ".py",
   "mimetype": "text/x-python",
   "name": "python",
   "nbconvert_exporter": "python",
   "pygments_lexer": "ipython3",
   "version": "3.7.13"
  }
 },
 "nbformat": 4,
 "nbformat_minor": 5
}
