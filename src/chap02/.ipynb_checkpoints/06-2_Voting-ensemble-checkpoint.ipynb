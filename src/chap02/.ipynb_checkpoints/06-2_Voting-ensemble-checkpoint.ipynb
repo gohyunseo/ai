{
 "cells": [
  {
   "cell_type": "markdown",
   "id": "f904f50e",
   "metadata": {},
   "source": [
    "# 보팅 앙상블\n",
    "- 단일 모델을 앙상블하여 더 나은 예측을 하는 앙상블 모델을 만들어 보겠습니다."
   ]
  },
  {
   "cell_type": "code",
   "execution_count": 1,
   "id": "a72dc854",
   "metadata": {},
   "outputs": [],
   "source": [
    "#라이브러리 임포트 \n",
    "from sklearn import datasets\n",
    "from sklearn.tree import DecisionTreeClassifier\n",
    "from sklearn.neighbors import KNeighborsClassifier\n",
    "from sklearn.svm import SVC\n",
    "from sklearn.ensemble import VotingClassifier\n",
    "from sklearn.model_selection import train_test_split\n",
    "from sklearn.metrics import accuracy_score\n",
    "\n",
    "import numpy as np\n",
    "np.random.seed(5)"
   ]
  },
  {
   "cell_type": "code",
   "execution_count": 2,
   "id": "6aab4470",
   "metadata": {},
   "outputs": [],
   "source": [
    "# 손글씨 데이터 로드\n",
    "mnist = datasets.load_digits() #손글씨 이미지 데이터\n",
    "features, labels = mnist.data, mnist.target\n",
    "\n",
    "X_train, X_test, y_train, y_test = train_test_split(features, labels, test_size= 0.2)"
   ]
  },
  {
   "cell_type": "markdown",
   "id": "f35e598d",
   "metadata": {},
   "source": [
    "## 단일 모델 정확도 측정\n",
    "- 의사결정트리, knn, svm 모델의 정확도 측정."
   ]
  },
  {
   "cell_type": "code",
   "execution_count": 3,
   "id": "ee08972b",
   "metadata": {},
   "outputs": [],
   "source": [
    "dtree = DecisionTreeClassifier(criterion= 'gini', max_depth = 8, max_features= 32, random_state= 35) #그리드서치해서 나온값\n",
    "\n",
    "dtree = dtree.fit(X_train,y_train)\n",
    "\n",
    "dtree_predicted = dtree.predict(X_test)"
   ]
  },
  {
   "cell_type": "code",
   "execution_count": 4,
   "id": "21ac203a",
   "metadata": {},
   "outputs": [],
   "source": [
    "knn = KNeighborsClassifier(n_neighbors = 299).fit(X_train, y_train) # 299는 그리드서치 사용해서 나온값\n",
    "knn_predicted = knn.predict(X_test) "
   ]
  },
  {
   "cell_type": "code",
   "execution_count": 5,
   "id": "8b65891f",
   "metadata": {},
   "outputs": [],
   "source": [
    "svm = SVC(C=0.1, gamma=0.003, probability = True, random_state = 35).fit(X_train, y_train) #그리드서치해서 나온값\n",
    "svm_predicted = svm.predict(X_test)"
   ]
  },
  {
   "cell_type": "code",
   "execution_count": 6,
   "id": "b3da6317",
   "metadata": {},
   "outputs": [
    {
     "name": "stdout",
     "output_type": "stream",
     "text": [
      "[accuracy]\n",
      "d-tree :  0.8277777777777777\n",
      "knn    :  0.8944444444444445\n",
      "svm    :  0.8916666666666667\n"
     ]
    }
   ],
   "source": [
    "print('[accuracy]')\n",
    "print('d-tree : ', accuracy_score(y_test,dtree_predicted))\n",
    "print('knn    : ', accuracy_score(y_test,knn_predicted))\n",
    "print('svm    : ', accuracy_score(y_test,svm_predicted))"
   ]
  },
  {
   "cell_type": "code",
   "execution_count": 7,
   "id": "6cec262e",
   "metadata": {},
   "outputs": [
    {
     "name": "stdout",
     "output_type": "stream",
     "text": [
      "[[0.00129293 0.00434548 0.00446459 0.00248053 0.00336731 0.93848315\n",
      "  0.00127073 0.00448341 0.02477231 0.01503956]\n",
      " [0.00189233 0.00631647 0.92958418 0.00345522 0.0030971  0.00828454\n",
      "  0.00186869 0.0048112  0.03092707 0.0097632 ]]\n"
     ]
    }
   ],
   "source": [
    "# 직접 소프트 보팅을 구현하고 싶을 때에는 predict_proba() 함수를 사용하여 테스트 수행시 측정된 분류값별 확률울 사용\n",
    "\n",
    "svm_proda = svm.predict_proba(X_test)\n",
    "print(svm_proda[0:2])"
   ]
  },
  {
   "cell_type": "markdown",
   "id": "78f0e7c2",
   "metadata": {},
   "source": [
    "## 하드 보팅\n",
    "- 하드보팅은 일반적인 투표와 같이 각각 분류기의 예측값들을 모아, 가장 많은 득표를 박은 예측값으로 최종결론을 내는 방식입니다."
   ]
  },
  {
   "cell_type": "code",
   "execution_count": 8,
   "id": "e375ba2e",
   "metadata": {},
   "outputs": [
    {
     "data": {
      "text/plain": [
       "0.9222222222222223"
      ]
     },
     "execution_count": 8,
     "metadata": {},
     "output_type": "execute_result"
    }
   ],
   "source": [
    "voting_clf = VotingClassifier(estimators=[('decision_tree', dtree), ('knn', knn), ('svm', svm)],\n",
    "                                 weights=[1, 1, 1], voting ='hard').fit(X_train, y_train)\n",
    "hard_voting_predicted = voting_clf.predict(X_test)\n",
    "accuracy_score(y_test, hard_voting_predicted)"
   ]
  },
  {
   "cell_type": "markdown",
   "id": "1485aec6",
   "metadata": {},
   "source": [
    "## 소프트 보팅\n",
    "- 소프트 보팅은 각각의 분류모델의 predict_proba을 활용하여, 모든분류값들의 확률들을 더해서, 가장 높은 점수를 획득한 분류값으로 최종 결론을 내는 방식입니다."
   ]
  },
  {
   "cell_type": "code",
   "execution_count": 9,
   "id": "dfbaf826",
   "metadata": {},
   "outputs": [
    {
     "data": {
      "text/plain": [
       "0.8888888888888888"
      ]
     },
     "execution_count": 9,
     "metadata": {},
     "output_type": "execute_result"
    }
   ],
   "source": [
    "voting_clf = VotingClassifier(estimators=[('decision_tree', dtree), ('knn', knn), ('svm', svm)],\n",
    "                                 weights=[1, 1, 1], voting ='soft').fit(X_train, y_train)\n",
    "soft_voting_predicted = voting_clf.predict(X_test)\n",
    "accuracy_score(y_test, soft_voting_predicted)"
   ]
  },
  {
   "cell_type": "markdown",
   "id": "ebb89194",
   "metadata": {},
   "source": [
    "## 정확도 비교 시각화"
   ]
  },
  {
   "cell_type": "code",
   "execution_count": 12,
   "id": "9a06910c",
   "metadata": {},
   "outputs": [
    {
     "data": {
      "text/plain": [
       "([<matplotlib.axis.XTick at 0x2073f3db3c8>,\n",
       "  <matplotlib.axis.XTick at 0x2073f3c90c8>,\n",
       "  <matplotlib.axis.XTick at 0x2073f362708>,\n",
       "  <matplotlib.axis.XTick at 0x2073ed3b608>,\n",
       "  <matplotlib.axis.XTick at 0x2073efadcc8>],\n",
       " [Text(0, 0, 'decisiontree'),\n",
       "  Text(1, 0, 'knn'),\n",
       "  Text(2, 0, 'svm'),\n",
       "  Text(3, 0, 'hard voting'),\n",
       "  Text(4, 0, 'soft voting')])"
      ]
     },
     "execution_count": 12,
     "metadata": {},
     "output_type": "execute_result"
    },
    {
     "data": {
      "image/png": "[encoded data removed]",
      "text/plain": [
       "<Figure size 640x480 with 1 Axes>"
      ]
     },
     "metadata": {},
     "output_type": "display_data"
    }
   ],
   "source": [
    "import matplotlib.pyplot as plt\n",
    "\n",
    "x = np.arange(5)\n",
    "plt.bar(x, height=[accuracy_score(y_test, dtree_predicted),\n",
    "                   accuracy_score(y_test, knn_predicted),\n",
    "                   accuracy_score(y_test, svm_predicted),\n",
    "                   accuracy_score(y_test, hard_voting_predicted),\n",
    "                   accuracy_score(y_test, soft_voting_predicted)\n",
    "                  ])\n",
    "\n",
    "plt.xticks(x, ['decisiontree','knn', 'svm', 'hard voting', 'soft voting'])"
   ]
  },
  {
   "cell_type": "code",
   "execution_count": null,
   "id": "d4fb2c53",
   "metadata": {},
   "outputs": [],
   "source": []
  }
 ],
 "metadata": {
  "kernelspec": {
   "display_name": "Python 3 (ipykernel)",
   "language": "python",
   "name": "python3"
  },
  "language_info": {
   "codemirror_mode": {
    "name": "ipython",
    "version": 3
   },
   "file_extension": ".py",
   "mimetype": "text/x-python",
   "name": "python",
   "nbconvert_exporter": "python",
   "pygments_lexer": "ipython3",
   "version": "3.7.13"
  }
 },
 "nbformat": 4,
 "nbformat_minor": 5
}
