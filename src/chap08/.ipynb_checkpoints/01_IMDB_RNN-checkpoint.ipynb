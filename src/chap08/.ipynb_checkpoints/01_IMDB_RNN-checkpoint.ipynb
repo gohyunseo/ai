{
 "cells": [
  {
   "cell_type": "code",
   "execution_count": 1,
   "id": "b395e5af",
   "metadata": {},
   "outputs": [],
   "source": [
    "# IMDB 리뷰 데이터셋 접근\n",
    "\n",
    "from tensorflow.keras.datasets import imdb\n",
    "import numpy as np\n",
    "\n",
    "(train_input, train_target), (test_input, test_target) = imdb.load_data(num_words=500) # imdb.load_data : imdb 데이터 불러오기\n",
    "# num_words=500 : 많이나온 단어 500개만 뽑아서 어휘사전에 등록"
   ]
  },
  {
   "cell_type": "code",
   "execution_count": 2,
   "id": "e572d34e",
   "metadata": {},
   "outputs": [
    {
     "name": "stdout",
     "output_type": "stream",
     "text": [
      "(25000,) (25000,)\n"
     ]
    }
   ],
   "source": [
    "print(train_input.shape, test_input.shape)"
   ]
  },
  {
   "cell_type": "code",
   "execution_count": 3,
   "id": "456cba2f",
   "metadata": {},
   "outputs": [
    {
     "name": "stdout",
     "output_type": "stream",
     "text": [
      "218 189\n"
     ]
    }
   ],
   "source": [
    "print(len(train_input[0]), len(train_input[1])) #글자수"
   ]
  },
  {
   "cell_type": "code",
   "execution_count": 4,
   "id": "eac4df13",
   "metadata": {},
   "outputs": [
    {
     "name": "stdout",
     "output_type": "stream",
     "text": [
      "[1, 14, 22, 16, 43, 2, 2, 2, 2, 65, 458, 2, 66, 2, 4, 173, 36, 256, 5, 25, 100, 43, 2, 112, 50, 2, 2, 9, 35, 480, 284, 5, 150, 4, 172, 112, 167, 2, 336, 385, 39, 4, 172, 2, 2, 17, 2, 38, 13, 447, 4, 192, 50, 16, 6, 147, 2, 19, 14, 22, 4, 2, 2, 469, 4, 22, 71, 87, 12, 16, 43, 2, 38, 76, 15, 13, 2, 4, 22, 17, 2, 17, 12, 16, 2, 18, 2, 5, 62, 386, 12, 8, 316, 8, 106, 5, 4, 2, 2, 16, 480, 66, 2, 33, 4, 130, 12, 16, 38, 2, 5, 25, 124, 51, 36, 135, 48, 25, 2, 33, 6, 22, 12, 215, 28, 77, 52, 5, 14, 407, 16, 82, 2, 8, 4, 107, 117, 2, 15, 256, 4, 2, 7, 2, 5, 2, 36, 71, 43, 2, 476, 26, 400, 317, 46, 7, 4, 2, 2, 13, 104, 88, 4, 381, 15, 297, 98, 32, 2, 56, 26, 141, 6, 194, 2, 18, 4, 226, 22, 21, 134, 476, 26, 480, 5, 144, 30, 2, 18, 51, 36, 28, 224, 92, 25, 104, 4, 226, 65, 16, 38, 2, 88, 12, 16, 283, 5, 16, 2, 113, 103, 32, 15, 16, 2, 19, 178, 32]\n"
     ]
    }
   ],
   "source": [
    "print(train_input[0]) # 이미 텍스트 -> 숫자로 데이터 전치리가 된 상태, 어휘사전을 통해 각 단어 마다 숫자가 매핑되어있다. "
   ]
  },
  {
   "cell_type": "code",
   "execution_count": 5,
   "id": "4fbb3007",
   "metadata": {},
   "outputs": [
    {
     "name": "stdout",
     "output_type": "stream",
     "text": [
      "[1 0 0 1 0 0 1 0 1 0 1 0 0 0 0 0 1 1 0 1]\n"
     ]
    }
   ],
   "source": [
    "print(train_target[:20])"
   ]
  },
  {
   "cell_type": "code",
   "execution_count": 6,
   "id": "2400148b",
   "metadata": {},
   "outputs": [
    {
     "name": "stdout",
     "output_type": "stream",
     "text": [
      "177\n",
      "[14, 22, 16, 43, 65, 458, 66, 4, 173, 36, 256, 5, 25, 100, 43, 112, 50, 9, 35, 480, 284, 5, 150, 4, 172, 112, 167, 336, 385, 39, 4, 172, 17, 38, 13, 447, 4, 192, 50, 16, 6, 147, 19, 14, 22, 4, 469, 4, 22, 71, 87, 12, 16, 43, 38, 76, 15, 13, 4, 22, 17, 17, 12, 16, 18, 5, 62, 386, 12, 8, 316, 8, 106, 5, 4, 16, 480, 66, 33, 4, 130, 12, 16, 38, 5, 25, 124, 51, 36, 135, 48, 25, 33, 6, 22, 12, 215, 28, 77, 52, 5, 14, 407, 16, 82, 8, 4, 107, 117, 15, 256, 4, 7, 5, 36, 71, 43, 476, 26, 400, 317, 46, 7, 4, 13, 104, 88, 4, 381, 15, 297, 98, 32, 56, 26, 141, 6, 194, 18, 4, 226, 22, 21, 134, 476, 26, 480, 5, 144, 30, 18, 51, 36, 28, 224, 92, 25, 104, 4, 226, 65, 16, 38, 88, 12, 16, 283, 5, 16, 113, 103, 32, 15, 16, 19, 178, 32]\n"
     ]
    }
   ],
   "source": [
    "# 훈련세트에서 '0, 1, 2'(어휘사전에 없는 단어(= 사용량 500위 안에 없는 단어)) 제외하기\n",
    "for i in range(len(train_input)):\n",
    "    train_input[i] = [w for w in train_input[i] if w > 2]\n",
    "    \n",
    "print(len(train_input[0]))\n",
    "print(train_input[0])"
   ]
  },
  {
   "cell_type": "code",
   "execution_count": 7,
   "id": "53121008",
   "metadata": {},
   "outputs": [],
   "source": [
    "from sklearn.model_selection import train_test_split\n",
    "\n",
    "train_input, val_input, train_target, val_target = train_test_split(train_input, train_target, test_size = 0.2, random_state=42)"
   ]
  },
  {
   "cell_type": "code",
   "execution_count": 8,
   "id": "7ce5cd9e",
   "metadata": {},
   "outputs": [],
   "source": [
    "lengths = np.array([len(x) for x in train_input])"
   ]
  },
  {
   "cell_type": "code",
   "execution_count": 9,
   "id": "57f44814",
   "metadata": {},
   "outputs": [
    {
     "name": "stdout",
     "output_type": "stream",
     "text": [
      "164.67985 126.0\n"
     ]
    }
   ],
   "source": [
    "print(np.mean(lengths), np.median(lengths)) # 평균값 > 중위값 "
   ]
  },
  {
   "cell_type": "code",
   "execution_count": 10,
   "id": "2f84745b",
   "metadata": {},
   "outputs": [
    {
     "data": {
      "text/plain": [
       "Text(0, 0.5, 'frequency')"
      ]
     },
     "execution_count": 10,
     "metadata": {},
     "output_type": "execute_result"
    },
    {
     "data": {
      "image/png": "[encoded data removed]",
      "text/plain": [
       "<Figure size 640x480 with 1 Axes>"
      ]
     },
     "metadata": {},
     "output_type": "display_data"
    }
   ],
   "source": [
    "import matplotlib.pyplot as plt\n",
    "plt.hist(lengths)\n",
    "plt.xlabel('lengths')\n",
    "plt.ylabel('frequency')\n"
   ]
  },
  {
   "cell_type": "code",
   "execution_count": 11,
   "id": "97c2dc39",
   "metadata": {},
   "outputs": [
    {
     "data": {
      "text/plain": [
       "(20000, 100)"
      ]
     },
     "execution_count": 11,
     "metadata": {},
     "output_type": "execute_result"
    }
   ],
   "source": [
    "#  pad_sequences \n",
    "from tensorflow.keras.preprocessing.sequence import pad_sequences\n",
    "\n",
    "train_seq = pad_sequences(train_input, maxlen=100)  # padding='pre'('post')\n",
    "# pad_sequences : 부족한 단어수를 0으로 채워줌 (단위 통일)\n",
    "# maxlen=100 : 뒤쪽 100단어를 살리고 앞쪽 단어들 컽\n",
    "\n",
    "train_seq.shape"
   ]
  },
  {
   "cell_type": "code",
   "execution_count": 12,
   "id": "0f78396f",
   "metadata": {},
   "outputs": [
    {
     "data": {
      "text/plain": [
       "array([  0,   0,   0,   0,   0,   0,   0,   0,   0,   0,   0,   0,   0,\n",
       "         0,   0,   0,   0,   0,   0,   0,   0,   0,   0,   0,   0,   0,\n",
       "         0,   0,   0,   0,   0,   0,   0,   0,   0,   0,   0,   0, 195,\n",
       "        19,  49, 190,   4, 352, 183,  10,  10,  13,  82,  79,   4,  36,\n",
       "        71, 269,   8,  25,  19,  49,   7,   4,  10,  10,  48,  25,  40,\n",
       "        11,  40,   5,   4,  95,  14, 238,  56, 129,  10,  10,  21,  94,\n",
       "       364, 352,  11, 190,  24, 484,   7,  94, 205, 405,  10,  10,  87,\n",
       "        34,  49,   7, 290,  46,  48,  64,  18,   4])"
      ]
     },
     "execution_count": 12,
     "metadata": {},
     "output_type": "execute_result"
    }
   ],
   "source": [
    "train_seq[5]"
   ]
  },
  {
   "cell_type": "code",
   "execution_count": 13,
   "id": "42ea058b",
   "metadata": {},
   "outputs": [],
   "source": [
    "val_seq = pad_sequences(val_input, maxlen=100) #검증용데이터에도 적용"
   ]
  },
  {
   "cell_type": "markdown",
   "id": "3082cb0f",
   "metadata": {},
   "source": [
    "### 순환 신경망 만들기"
   ]
  },
  {
   "cell_type": "code",
   "execution_count": 14,
   "id": "7c09dc7e",
   "metadata": {},
   "outputs": [],
   "source": [
    "from tensorflow import keras\n",
    "\n",
    "model = keras.Sequential()\n",
    "model.add(keras.layers.SimpleRNN(8, input_shape=(100, 500))) # 첫매개변수 기본값은 units\n",
    "# SimpleRNN 기본 activation='tanh'\n",
    "#행 : 문장에 사용된 100단어, 어학사전에 등록된 500단어\n",
    "model.add(keras.layers.Dense(1, activation='sigmoid'))"
   ]
  },
  {
   "cell_type": "code",
   "execution_count": 15,
   "id": "00cc17a9",
   "metadata": {},
   "outputs": [
    {
     "data": {
      "text/plain": [
       "(20000, 100, 500)"
      ]
     },
     "execution_count": 15,
     "metadata": {},
     "output_type": "execute_result"
    }
   ],
   "source": [
    "train_oh = keras.utils.to_categorical(train_seq)\n",
    "train_oh.shape"
   ]
  },
  {
   "cell_type": "code",
   "execution_count": 16,
   "id": "dcba5a74",
   "metadata": {},
   "outputs": [
    {
     "data": {
      "text/plain": [
       "(5000, 100, 500)"
      ]
     },
     "execution_count": 16,
     "metadata": {},
     "output_type": "execute_result"
    }
   ],
   "source": [
    "val_oh = keras.utils.to_categorical(val_seq)\n",
    "val_oh.shape"
   ]
  },
  {
   "cell_type": "code",
   "execution_count": 17,
   "id": "91fb990c",
   "metadata": {},
   "outputs": [
    {
     "data": {
      "text/plain": [
       "array([[[0., 0., 0., ..., 0., 0., 0.],\n",
       "        [0., 0., 0., ..., 0., 0., 0.],\n",
       "        [0., 0., 0., ..., 0., 0., 0.],\n",
       "        ...,\n",
       "        [0., 0., 0., ..., 0., 0., 0.],\n",
       "        [0., 0., 0., ..., 0., 0., 0.],\n",
       "        [0., 0., 0., ..., 0., 0., 0.]],\n",
       "\n",
       "       [[0., 0., 0., ..., 0., 0., 0.],\n",
       "        [0., 0., 0., ..., 0., 0., 0.],\n",
       "        [0., 0., 0., ..., 0., 0., 0.],\n",
       "        ...,\n",
       "        [0., 0., 0., ..., 0., 0., 0.],\n",
       "        [0., 0., 0., ..., 0., 0., 0.],\n",
       "        [0., 0., 0., ..., 0., 0., 0.]]], dtype=float32)"
      ]
     },
     "execution_count": 17,
     "metadata": {},
     "output_type": "execute_result"
    }
   ],
   "source": [
    "val_oh[0:2]"
   ]
  },
  {
   "cell_type": "code",
   "execution_count": 18,
   "id": "37f66d84",
   "metadata": {},
   "outputs": [
    {
     "name": "stdout",
     "output_type": "stream",
     "text": [
      "Model: \"sequential\"\n",
      "_________________________________________________________________\n",
      " Layer (type)                Output Shape              Param #   \n",
      "=================================================================\n",
      " simple_rnn (SimpleRNN)      (None, 8)                 4072      \n",
      "                                                                 \n",
      " dense (Dense)               (None, 1)                 9         \n",
      "                                                                 \n",
      "=================================================================\n",
      "Total params: 4,081\n",
      "Trainable params: 4,081\n",
      "Non-trainable params: 0\n",
      "_________________________________________________________________\n"
     ]
    }
   ],
   "source": [
    "model.summary()\n",
    "# 500*8 + 8*8 + 8\n",
    "# 8+1"
   ]
  },
  {
   "cell_type": "code",
   "execution_count": 19,
   "id": "a6cb440e",
   "metadata": {},
   "outputs": [
    {
     "name": "stdout",
     "output_type": "stream",
     "text": [
      "Epoch 1/200\n",
      "313/313 [==============================] - 9s 24ms/step - loss: 0.7019 - accuracy: 0.4990 - val_loss: 0.6980 - val_accuracy: 0.5106\n",
      "Epoch 2/200\n",
      "313/313 [==============================] - 7s 23ms/step - loss: 0.6863 - accuracy: 0.5494 - val_loss: 0.6779 - val_accuracy: 0.5694\n",
      "Epoch 3/200\n",
      "313/313 [==============================] - 7s 22ms/step - loss: 0.6567 - accuracy: 0.6262 - val_loss: 0.6424 - val_accuracy: 0.6490\n",
      "Epoch 4/200\n",
      "313/313 [==============================] - 7s 22ms/step - loss: 0.6241 - accuracy: 0.6823 - val_loss: 0.6183 - val_accuracy: 0.6826\n",
      "Epoch 5/200\n",
      "313/313 [==============================] - 7s 23ms/step - loss: 0.6005 - accuracy: 0.7092 - val_loss: 0.5992 - val_accuracy: 0.7008\n",
      "Epoch 6/200\n",
      "313/313 [==============================] - 7s 22ms/step - loss: 0.5773 - accuracy: 0.7327 - val_loss: 0.5762 - val_accuracy: 0.7246\n",
      "Epoch 7/200\n",
      "313/313 [==============================] - 7s 23ms/step - loss: 0.5572 - accuracy: 0.7504 - val_loss: 0.5591 - val_accuracy: 0.7392\n",
      "Epoch 8/200\n",
      "313/313 [==============================] - 7s 23ms/step - loss: 0.5380 - accuracy: 0.7632 - val_loss: 0.5434 - val_accuracy: 0.7510\n",
      "Epoch 9/200\n",
      "313/313 [==============================] - 7s 23ms/step - loss: 0.5218 - accuracy: 0.7744 - val_loss: 0.5260 - val_accuracy: 0.7602\n",
      "Epoch 10/200\n",
      "313/313 [==============================] - 7s 23ms/step - loss: 0.5070 - accuracy: 0.7815 - val_loss: 0.5213 - val_accuracy: 0.7632\n",
      "Epoch 11/200\n",
      "313/313 [==============================] - 7s 23ms/step - loss: 0.4944 - accuracy: 0.7891 - val_loss: 0.5077 - val_accuracy: 0.7664\n",
      "Epoch 12/200\n",
      "313/313 [==============================] - 7s 22ms/step - loss: 0.4839 - accuracy: 0.7957 - val_loss: 0.4959 - val_accuracy: 0.7752\n",
      "Epoch 13/200\n",
      "313/313 [==============================] - 7s 22ms/step - loss: 0.4739 - accuracy: 0.7976 - val_loss: 0.4908 - val_accuracy: 0.7822\n",
      "Epoch 14/200\n",
      "313/313 [==============================] - 7s 22ms/step - loss: 0.4651 - accuracy: 0.8028 - val_loss: 0.4944 - val_accuracy: 0.7758\n",
      "Epoch 15/200\n",
      "313/313 [==============================] - 7s 22ms/step - loss: 0.4573 - accuracy: 0.8065 - val_loss: 0.4822 - val_accuracy: 0.7796\n",
      "Epoch 16/200\n",
      "313/313 [==============================] - 7s 22ms/step - loss: 0.4492 - accuracy: 0.8119 - val_loss: 0.4763 - val_accuracy: 0.7814\n",
      "Epoch 17/200\n",
      "313/313 [==============================] - 7s 22ms/step - loss: 0.4429 - accuracy: 0.8122 - val_loss: 0.4674 - val_accuracy: 0.7948\n",
      "Epoch 18/200\n",
      "313/313 [==============================] - 7s 22ms/step - loss: 0.4375 - accuracy: 0.8143 - val_loss: 0.4654 - val_accuracy: 0.7920\n",
      "Epoch 19/200\n",
      "313/313 [==============================] - 7s 22ms/step - loss: 0.4335 - accuracy: 0.8176 - val_loss: 0.4636 - val_accuracy: 0.7904\n",
      "Epoch 20/200\n",
      "313/313 [==============================] - 7s 22ms/step - loss: 0.4278 - accuracy: 0.8199 - val_loss: 0.4584 - val_accuracy: 0.7946\n",
      "Epoch 21/200\n",
      "313/313 [==============================] - 7s 22ms/step - loss: 0.4245 - accuracy: 0.8209 - val_loss: 0.4613 - val_accuracy: 0.7890\n",
      "Epoch 22/200\n",
      "313/313 [==============================] - 7s 22ms/step - loss: 0.4207 - accuracy: 0.8224 - val_loss: 0.4578 - val_accuracy: 0.7940\n",
      "Epoch 23/200\n",
      "313/313 [==============================] - 7s 22ms/step - loss: 0.4177 - accuracy: 0.8207 - val_loss: 0.4544 - val_accuracy: 0.7932\n",
      "Epoch 24/200\n",
      "313/313 [==============================] - 7s 22ms/step - loss: 0.4139 - accuracy: 0.8242 - val_loss: 0.4532 - val_accuracy: 0.7942\n",
      "Epoch 25/200\n",
      "313/313 [==============================] - 7s 23ms/step - loss: 0.4116 - accuracy: 0.8255 - val_loss: 0.4547 - val_accuracy: 0.7940\n",
      "Epoch 26/200\n",
      "313/313 [==============================] - 7s 22ms/step - loss: 0.4079 - accuracy: 0.8263 - val_loss: 0.4501 - val_accuracy: 0.7954\n",
      "Epoch 27/200\n",
      "313/313 [==============================] - 7s 22ms/step - loss: 0.4062 - accuracy: 0.8260 - val_loss: 0.4561 - val_accuracy: 0.7910\n",
      "Epoch 28/200\n",
      "313/313 [==============================] - 7s 22ms/step - loss: 0.4036 - accuracy: 0.8274 - val_loss: 0.4438 - val_accuracy: 0.8008\n",
      "Epoch 29/200\n",
      "313/313 [==============================] - 7s 22ms/step - loss: 0.4007 - accuracy: 0.8299 - val_loss: 0.4484 - val_accuracy: 0.7948\n",
      "Epoch 30/200\n",
      "313/313 [==============================] - 7s 22ms/step - loss: 0.4002 - accuracy: 0.8292 - val_loss: 0.4456 - val_accuracy: 0.7980\n",
      "Epoch 31/200\n",
      "313/313 [==============================] - 7s 22ms/step - loss: 0.3973 - accuracy: 0.8317 - val_loss: 0.4570 - val_accuracy: 0.7868\n"
     ]
    }
   ],
   "source": [
    "model.compile(optimizer = keras.optimizers.RMSprop(learning_rate=1e-4) ,loss = 'binary_crossentropy', metrics='accuracy')\n",
    "\n",
    "checkpoint_cb = keras.callbacks.ModelCheckpoint('best-simpleRnn-model.h5', save_best_only = True)\n",
    "early_stopping_cb = keras.callbacks.EarlyStopping(patience=3, restore_best_weights=True)\n",
    "history = model.fit(train_oh, train_target, epochs=200, batch_size=64,\n",
    "                    validation_data=(val_oh,val_target), callbacks=[checkpoint_cb, early_stopping_cb] ) # batch_size : 가중치"
   ]
  },
  {
   "cell_type": "code",
   "execution_count": 21,
   "id": "fd5b67ec",
   "metadata": {},
   "outputs": [
    {
     "data": {
      "image/png": "[encoded data removed]",
      "text/plain": [
       "<Figure size 640x480 with 1 Axes>"
      ]
     },
     "metadata": {},
     "output_type": "display_data"
    }
   ],
   "source": [
    "plt.plot(history.history['loss'])\n",
    "plt.plot(history.history['val_loss'])\n",
    "plt.xlabel('epoch')\n",
    "plt.ylabel('loss')\n",
    "plt.legend(['train','val'])\n",
    "plt.show()"
   ]
  },
  {
   "cell_type": "markdown",
   "id": "1095f50d",
   "metadata": {},
   "source": [
    "## 단어 임베딩 사용하기"
   ]
  },
  {
   "cell_type": "code",
   "execution_count": 24,
   "id": "f7e2978a",
   "metadata": {},
   "outputs": [
    {
     "name": "stdout",
     "output_type": "stream",
     "text": [
      "Model: \"sequential_3\"\n",
      "_________________________________________________________________\n",
      " Layer (type)                Output Shape              Param #   \n",
      "=================================================================\n",
      " embedding_2 (Embedding)     (None, 100, 16)           8000      \n",
      "                                                                 \n",
      " simple_rnn_3 (SimpleRNN)    (None, 8)                 200       \n",
      "                                                                 \n",
      " dense_1 (Dense)             (None, 1)                 9         \n",
      "                                                                 \n",
      "=================================================================\n",
      "Total params: 8,209\n",
      "Trainable params: 8,209\n",
      "Non-trainable params: 0\n",
      "_________________________________________________________________\n"
     ]
    }
   ],
   "source": [
    "model2 = keras.Sequential()\n",
    "model2.add(keras.layers.Embedding(500, 16, input_length=100))  #500칸 -> 16칸으로 알아서 줄임. 절대적인 숫자는 그대로, 메모리만 감소\n",
    "model2.add(keras.layers.SimpleRNN(8))\n",
    "model2.add(keras.layers.Dense(1, activation='sigmoid'))\n",
    "\n",
    "model2.summary()"
   ]
  },
  {
   "cell_type": "code",
   "execution_count": 25,
   "id": "b30f618d",
   "metadata": {},
   "outputs": [
    {
     "name": "stdout",
     "output_type": "stream",
     "text": [
      "Epoch 1/50\n",
      "313/313 [==============================] - 6s 14ms/step - loss: 0.6968 - accuracy: 0.5049 - val_loss: 0.6929 - val_accuracy: 0.5182\n",
      "Epoch 2/50\n",
      "313/313 [==============================] - 4s 14ms/step - loss: 0.6905 - accuracy: 0.5314 - val_loss: 0.6899 - val_accuracy: 0.5330\n",
      "Epoch 3/50\n",
      "313/313 [==============================] - 4s 14ms/step - loss: 0.6858 - accuracy: 0.5545 - val_loss: 0.6872 - val_accuracy: 0.5494\n",
      "Epoch 4/50\n",
      "313/313 [==============================] - 4s 14ms/step - loss: 0.6812 - accuracy: 0.5701 - val_loss: 0.6847 - val_accuracy: 0.5604\n",
      "Epoch 5/50\n",
      "313/313 [==============================] - 4s 13ms/step - loss: 0.6765 - accuracy: 0.5838 - val_loss: 0.6821 - val_accuracy: 0.5668\n",
      "Epoch 6/50\n",
      "313/313 [==============================] - 4s 13ms/step - loss: 0.6716 - accuracy: 0.5955 - val_loss: 0.6797 - val_accuracy: 0.5710\n",
      "Epoch 7/50\n",
      "313/313 [==============================] - 4s 13ms/step - loss: 0.6667 - accuracy: 0.6045 - val_loss: 0.6777 - val_accuracy: 0.5780\n",
      "Epoch 8/50\n",
      "313/313 [==============================] - 4s 13ms/step - loss: 0.6618 - accuracy: 0.6135 - val_loss: 0.6759 - val_accuracy: 0.5798\n",
      "Epoch 9/50\n",
      "313/313 [==============================] - 4s 13ms/step - loss: 0.6568 - accuracy: 0.6215 - val_loss: 0.6740 - val_accuracy: 0.5834\n",
      "Epoch 10/50\n",
      "313/313 [==============================] - 4s 13ms/step - loss: 0.6518 - accuracy: 0.6295 - val_loss: 0.6723 - val_accuracy: 0.5816\n",
      "Epoch 11/50\n",
      "313/313 [==============================] - 4s 13ms/step - loss: 0.6467 - accuracy: 0.6360 - val_loss: 0.6704 - val_accuracy: 0.5862\n",
      "Epoch 12/50\n",
      "313/313 [==============================] - 4s 13ms/step - loss: 0.6419 - accuracy: 0.6413 - val_loss: 0.6691 - val_accuracy: 0.5896\n",
      "Epoch 13/50\n",
      "313/313 [==============================] - 4s 14ms/step - loss: 0.6370 - accuracy: 0.6484 - val_loss: 0.6657 - val_accuracy: 0.5962\n",
      "Epoch 14/50\n",
      "313/313 [==============================] - 4s 13ms/step - loss: 0.6319 - accuracy: 0.6542 - val_loss: 0.6638 - val_accuracy: 0.6010\n",
      "Epoch 15/50\n",
      "313/313 [==============================] - 4s 13ms/step - loss: 0.6269 - accuracy: 0.6596 - val_loss: 0.6615 - val_accuracy: 0.6044\n",
      "Epoch 16/50\n",
      "313/313 [==============================] - 4s 13ms/step - loss: 0.6219 - accuracy: 0.6651 - val_loss: 0.6598 - val_accuracy: 0.6062\n",
      "Epoch 17/50\n",
      "313/313 [==============================] - 4s 13ms/step - loss: 0.6169 - accuracy: 0.6716 - val_loss: 0.6586 - val_accuracy: 0.6034\n",
      "Epoch 18/50\n",
      "313/313 [==============================] - 4s 14ms/step - loss: 0.6118 - accuracy: 0.6739 - val_loss: 0.6577 - val_accuracy: 0.6074\n",
      "Epoch 19/50\n",
      "313/313 [==============================] - 4s 13ms/step - loss: 0.6068 - accuracy: 0.6816 - val_loss: 0.6551 - val_accuracy: 0.6078\n",
      "Epoch 20/50\n",
      "313/313 [==============================] - 4s 14ms/step - loss: 0.6020 - accuracy: 0.6855 - val_loss: 0.6524 - val_accuracy: 0.6110\n",
      "Epoch 21/50\n",
      "313/313 [==============================] - 4s 13ms/step - loss: 0.5977 - accuracy: 0.6889 - val_loss: 0.6486 - val_accuracy: 0.6182\n",
      "Epoch 22/50\n",
      "313/313 [==============================] - 4s 13ms/step - loss: 0.5933 - accuracy: 0.6932 - val_loss: 0.6470 - val_accuracy: 0.6166\n",
      "Epoch 23/50\n",
      "313/313 [==============================] - 4s 13ms/step - loss: 0.5890 - accuracy: 0.6955 - val_loss: 0.6469 - val_accuracy: 0.6172\n",
      "Epoch 24/50\n",
      "313/313 [==============================] - 4s 13ms/step - loss: 0.5853 - accuracy: 0.6985 - val_loss: 0.6445 - val_accuracy: 0.6210\n",
      "Epoch 25/50\n",
      "313/313 [==============================] - 4s 13ms/step - loss: 0.5815 - accuracy: 0.7016 - val_loss: 0.6453 - val_accuracy: 0.6206\n",
      "Epoch 26/50\n",
      "313/313 [==============================] - 4s 13ms/step - loss: 0.5776 - accuracy: 0.7050 - val_loss: 0.6415 - val_accuracy: 0.6248\n",
      "Epoch 27/50\n",
      "313/313 [==============================] - 4s 13ms/step - loss: 0.5739 - accuracy: 0.7089 - val_loss: 0.6411 - val_accuracy: 0.6272\n",
      "Epoch 28/50\n",
      "313/313 [==============================] - 4s 13ms/step - loss: 0.5709 - accuracy: 0.7106 - val_loss: 0.6403 - val_accuracy: 0.6326\n",
      "Epoch 29/50\n",
      "313/313 [==============================] - 4s 13ms/step - loss: 0.5673 - accuracy: 0.7126 - val_loss: 0.6369 - val_accuracy: 0.6374\n",
      "Epoch 30/50\n",
      "313/313 [==============================] - 4s 13ms/step - loss: 0.5643 - accuracy: 0.7170 - val_loss: 0.6399 - val_accuracy: 0.6340\n",
      "Epoch 31/50\n",
      "313/313 [==============================] - 4s 13ms/step - loss: 0.5614 - accuracy: 0.7178 - val_loss: 0.6390 - val_accuracy: 0.6356\n",
      "Epoch 32/50\n",
      "313/313 [==============================] - 4s 13ms/step - loss: 0.5583 - accuracy: 0.7217 - val_loss: 0.6424 - val_accuracy: 0.6332\n",
      "Epoch 33/50\n",
      "313/313 [==============================] - 4s 13ms/step - loss: 0.5557 - accuracy: 0.7250 - val_loss: 0.6374 - val_accuracy: 0.6384\n",
      "Epoch 34/50\n",
      "313/313 [==============================] - 4s 13ms/step - loss: 0.5531 - accuracy: 0.7259 - val_loss: 0.6376 - val_accuracy: 0.6366\n",
      "Epoch 35/50\n",
      "313/313 [==============================] - 4s 13ms/step - loss: 0.5502 - accuracy: 0.7278 - val_loss: 0.6347 - val_accuracy: 0.6432\n",
      "Epoch 36/50\n",
      "313/313 [==============================] - 4s 13ms/step - loss: 0.5479 - accuracy: 0.7290 - val_loss: 0.6361 - val_accuracy: 0.6416\n",
      "Epoch 37/50\n",
      "313/313 [==============================] - 4s 14ms/step - loss: 0.5454 - accuracy: 0.7305 - val_loss: 0.6375 - val_accuracy: 0.6414\n",
      "Epoch 38/50\n",
      "313/313 [==============================] - 4s 14ms/step - loss: 0.5433 - accuracy: 0.7328 - val_loss: 0.6376 - val_accuracy: 0.6440\n",
      "Epoch 39/50\n",
      "313/313 [==============================] - 4s 13ms/step - loss: 0.5407 - accuracy: 0.7354 - val_loss: 0.6379 - val_accuracy: 0.6446\n",
      "Epoch 40/50\n",
      "313/313 [==============================] - 4s 13ms/step - loss: 0.5389 - accuracy: 0.7363 - val_loss: 0.6365 - val_accuracy: 0.6464\n",
      "Epoch 41/50\n",
      "313/313 [==============================] - 4s 14ms/step - loss: 0.5370 - accuracy: 0.7383 - val_loss: 0.6387 - val_accuracy: 0.6454\n",
      "Epoch 42/50\n",
      "313/313 [==============================] - 4s 13ms/step - loss: 0.5350 - accuracy: 0.7401 - val_loss: 0.6398 - val_accuracy: 0.6462\n",
      "Epoch 43/50\n",
      "313/313 [==============================] - 4s 14ms/step - loss: 0.5330 - accuracy: 0.7413 - val_loss: 0.6412 - val_accuracy: 0.6452\n",
      "Epoch 44/50\n",
      "313/313 [==============================] - 4s 13ms/step - loss: 0.5313 - accuracy: 0.7423 - val_loss: 0.6407 - val_accuracy: 0.6494\n",
      "Epoch 45/50\n",
      "313/313 [==============================] - 4s 13ms/step - loss: 0.5293 - accuracy: 0.7439 - val_loss: 0.6403 - val_accuracy: 0.6500\n",
      "Epoch 46/50\n",
      "313/313 [==============================] - 4s 13ms/step - loss: 0.5271 - accuracy: 0.7456 - val_loss: 0.6398 - val_accuracy: 0.6522\n",
      "Epoch 47/50\n",
      "313/313 [==============================] - 4s 13ms/step - loss: 0.5252 - accuracy: 0.7477 - val_loss: 0.6386 - val_accuracy: 0.6520\n",
      "Epoch 48/50\n",
      "313/313 [==============================] - 4s 13ms/step - loss: 0.5234 - accuracy: 0.7501 - val_loss: 0.6424 - val_accuracy: 0.6498\n",
      "Epoch 49/50\n",
      "313/313 [==============================] - 4s 13ms/step - loss: 0.5214 - accuracy: 0.7512 - val_loss: 0.6424 - val_accuracy: 0.6542\n",
      "Epoch 50/50\n",
      "313/313 [==============================] - 4s 13ms/step - loss: 0.5197 - accuracy: 0.7521 - val_loss: 0.6375 - val_accuracy: 0.6548\n"
     ]
    }
   ],
   "source": [
    "model2.compile(optimizer = keras.optimizers.RMSprop(learning_rate=1e-4) ,loss = 'binary_crossentropy', metrics='accuracy')\n",
    "\n",
    "checkpoint_cb = keras.callbacks.ModelCheckpoint('best-embeddingRnn-model.h5', save_best_only = True)\n",
    "early_stopping_cb = keras.callbacks.EarlyStopping(patience=3, restore_best_weights=True)\n",
    "history = model2.fit(train_seq, train_target, epochs=50, batch_size=64,\n",
    "                    validation_data=(val_seq,val_target), callbacks= [checkpoint_cb]) # batch_size : 가중치"
   ]
  },
  {
   "cell_type": "code",
   "execution_count": 26,
   "id": "04a2771f",
   "metadata": {},
   "outputs": [
    {
     "data": {
      "image/png": "[encoded data removed]",
      "text/plain": [
       "<Figure size 640x480 with 1 Axes>"
      ]
     },
     "metadata": {},
     "output_type": "display_data"
    }
   ],
   "source": [
    "plt.plot(history.history['loss'])\n",
    "plt.plot(history.history['val_loss'])\n",
    "plt.xlabel('epoch')\n",
    "plt.ylabel('loss')\n",
    "plt.legend(['train','val'])\n",
    "plt.show()"
   ]
  },
  {
   "cell_type": "code",
   "execution_count": null,
   "id": "f0af6255",
   "metadata": {},
   "outputs": [],
   "source": []
  }
 ],
 "metadata": {
  "kernelspec": {
   "display_name": "Python 3 (ipykernel)",
   "language": "python",
   "name": "python3"
  },
  "language_info": {
   "codemirror_mode": {
    "name": "ipython",
    "version": 3
   },
   "file_extension": ".py",
   "mimetype": "text/x-python",
   "name": "python",
   "nbconvert_exporter": "python",
   "pygments_lexer": "ipython3",
   "version": "3.7.13"
  }
 },
 "nbformat": 4,
 "nbformat_minor": 5
}
