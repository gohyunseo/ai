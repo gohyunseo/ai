{
 "cells": [
  {
   "cell_type": "markdown",
   "id": "295a45d6",
   "metadata": {},
   "source": [
    "## 데이터 분석에 유용한 기능들\n",
    "#### - list comprehension 기본구조"
   ]
  },
  {
   "cell_type": "code",
   "execution_count": 1,
   "id": "78234ffe",
   "metadata": {},
   "outputs": [],
   "source": [
    "numbers = [1, 2, 3, 4, 5]\n",
    "square1 = []"
   ]
  },
  {
   "cell_type": "code",
   "execution_count": 2,
   "id": "561ce9e5",
   "metadata": {},
   "outputs": [
    {
     "data": {
      "text/plain": [
       "[1, 4, 9, 16, 25]"
      ]
     },
     "execution_count": 2,
     "metadata": {},
     "output_type": "execute_result"
    }
   ],
   "source": [
    "for i in numbers:\n",
    "    square1.append(i**2)\n",
    "    \n",
    "square1"
   ]
  },
  {
   "cell_type": "code",
   "execution_count": 3,
   "id": "c7e3bad0",
   "metadata": {},
   "outputs": [],
   "source": [
    "suqare2 = [i ** 2 for i in numbers]"
   ]
  },
  {
   "cell_type": "code",
   "execution_count": 5,
   "id": "e8fced54",
   "metadata": {},
   "outputs": [
    {
     "data": {
      "text/plain": [
       "[1, 4, 9, 16, 25]"
      ]
     },
     "execution_count": 5,
     "metadata": {},
     "output_type": "execute_result"
    }
   ],
   "source": [
    "suqare2"
   ]
  },
  {
   "cell_type": "code",
   "execution_count": 6,
   "id": "fe076f18",
   "metadata": {},
   "outputs": [
    {
     "data": {
      "text/plain": [
       "[9, 16, 25]"
      ]
     },
     "execution_count": 6,
     "metadata": {},
     "output_type": "execute_result"
    }
   ],
   "source": [
    "square3 = []\n",
    "\n",
    "for i in numbers:\n",
    "    if i >= 3 :\n",
    "        square3.append(i ** 2)\n",
    "        \n",
    "square3"
   ]
  },
  {
   "cell_type": "code",
   "execution_count": 7,
   "id": "660d686b",
   "metadata": {},
   "outputs": [
    {
     "data": {
      "text/plain": [
       "[9, 16, 25]"
      ]
     },
     "execution_count": 7,
     "metadata": {},
     "output_type": "execute_result"
    }
   ],
   "source": [
    "square4 = [ i**2 for i in numbers if i>=3]\n",
    "square4"
   ]
  },
  {
   "cell_type": "markdown",
   "id": "edee186e",
   "metadata": {},
   "source": [
    "* List comprehension : 리스트 변환하는 표현식으로 유용한 기능 "
   ]
  },
  {
   "cell_type": "code",
   "execution_count": 8,
   "id": "f8c5f3c7",
   "metadata": {},
   "outputs": [
    {
     "name": "stdout",
     "output_type": "stream",
     "text": [
      "['mon', 'tue', 'wed', 'thu', 'fri', 'sat', 'sun']\n"
     ]
    }
   ],
   "source": [
    "day = ['mon', 'tue', 'wed', 'thu', 'fri', 'sat', 'sun']\n",
    "print([x for x in day])"
   ]
  },
  {
   "cell_type": "code",
   "execution_count": 9,
   "id": "5034af1d",
   "metadata": {},
   "outputs": [
    {
     "name": "stdout",
     "output_type": "stream",
     "text": [
      "[35, 56, 45, 27, 8]\n"
     ]
    }
   ],
   "source": [
    "data = [35, 56, -53, 45, 27, -28, 8, -12]\n",
    "print([x for x in data if x >= 0])\n",
    "# 음수 제거"
   ]
  },
  {
   "cell_type": "code",
   "execution_count": 10,
   "id": "039d4198",
   "metadata": {},
   "outputs": [
    {
     "name": "stdout",
     "output_type": "stream",
     "text": [
      "[1225, 3136, 2025, 729, 64]\n"
     ]
    }
   ],
   "source": [
    "data = [35, 56, -53, 45, 27, -28, 8, -12]\n",
    "print([x**2 for x in data if x >= 0])\n",
    "# 음수제거후 리턴값 조작"
   ]
  },
  {
   "cell_type": "markdown",
   "id": "a3df3a0e",
   "metadata": {},
   "source": [
    "* split(구분자) : 구분자로 구분, 기본값은 공백 "
   ]
  },
  {
   "cell_type": "code",
   "execution_count": 11,
   "id": "332819a2",
   "metadata": {},
   "outputs": [
    {
     "data": {
      "text/plain": [
       "['the', 'joeun', 'Computer', 'academy', 'with', 'python']"
      ]
     },
     "execution_count": 11,
     "metadata": {},
     "output_type": "execute_result"
    }
   ],
   "source": [
    "text_text = \"the-joeun-Computer-academy-with-python\"\n",
    "result = text_text.split('-')\n",
    "result #list 자료구조로 결과 반환"
   ]
  },
  {
   "cell_type": "code",
   "execution_count": 12,
   "id": "2378a1c7",
   "metadata": {},
   "outputs": [
    {
     "data": {
      "text/plain": [
       "['the', 'joeun', 'Computer', 'academy', 'with', 'python']"
      ]
     },
     "execution_count": 12,
     "metadata": {},
     "output_type": "execute_result"
    }
   ],
   "source": [
    "text_text = ['the', 'joeun', 'Computer', 'academy', 'with', 'python']\n",
    "text_text"
   ]
  },
  {
   "cell_type": "markdown",
   "id": "b39c948e",
   "metadata": {},
   "source": [
    "* split()와 join()의 응용"
   ]
  },
  {
   "cell_type": "code",
   "execution_count": 13,
   "id": "ef7a946d",
   "metadata": {},
   "outputs": [
    {
     "data": {
      "text/plain": [
       "'345-234'"
      ]
     },
     "execution_count": 13,
     "metadata": {},
     "output_type": "execute_result"
    }
   ],
   "source": [
    "result = '-'.join('345.234'.split('.'))\n",
    "result"
   ]
  },
  {
   "cell_type": "markdown",
   "id": "48c8338a",
   "metadata": {},
   "source": [
    "### - enumerate(list) : 인덱스와 값을 함께 반환"
   ]
  },
  {
   "cell_type": "code",
   "execution_count": 14,
   "id": "4efca266",
   "metadata": {},
   "outputs": [
    {
     "name": "stdout",
     "output_type": "stream",
     "text": [
      "0 a\n",
      "1 b\n",
      "2 c\n",
      "3 d\n",
      "4 e\n"
     ]
    }
   ],
   "source": [
    "for i, name in enumerate(['a', 'b', 'c', 'd', 'e']):\n",
    "    print(i, name)\n",
    "    "
   ]
  },
  {
   "cell_type": "code",
   "execution_count": 16,
   "id": "d4b26549",
   "metadata": {},
   "outputs": [
    {
     "data": {
      "text/plain": [
       "{0: 'mon', 1: 'tue', 2: 'wed', 3: 'thu', 4: 'fri', 5: 'sat', 6: 'sun'}"
      ]
     },
     "execution_count": 16,
     "metadata": {},
     "output_type": "execute_result"
    }
   ],
   "source": [
    "seq = ['mon', 'tue', 'wed', 'thu', 'fri', 'sat', 'sun']\n",
    "dict(enumerate(seq)) #딕셔너리로 변환"
   ]
  },
  {
   "cell_type": "code",
   "execution_count": 18,
   "id": "efaf82b7",
   "metadata": {},
   "outputs": [
    {
     "data": {
      "text/plain": [
       "{'a': 'mon',\n",
       " 'b': 'tue',\n",
       " 'c': 'wed',\n",
       " 'd': 'thu',\n",
       " 'e': 'fri',\n",
       " 'f': 'sat',\n",
       " 'g': 'sun'}"
      ]
     },
     "execution_count": 18,
     "metadata": {},
     "output_type": "execute_result"
    }
   ],
   "source": [
    "key_seq = 'abcdefg'\n",
    "value_seq = ['mon', 'tue', 'wed', 'thu', 'fri', 'sat', 'sun']\n",
    "dict(zip(key_seq, value_seq)) # 딕셔너리 형변환 (데이터 묶기(키, 벨류))"
   ]
  },
  {
   "cell_type": "markdown",
   "id": "a905d010",
   "metadata": {},
   "source": [
    "## -Counter를 이용한 카운팅\n",
    "* count는 아이템의 갯수를 자동으로 카운팅"
   ]
  },
  {
   "cell_type": "code",
   "execution_count": 19,
   "id": "939e675a",
   "metadata": {},
   "outputs": [],
   "source": [
    "from collections import Counter"
   ]
  },
  {
   "cell_type": "code",
   "execution_count": 20,
   "id": "8c9509f9",
   "metadata": {},
   "outputs": [],
   "source": [
    "message = \"\"\"\n",
    "At vero eos et accusamus et iusto odio dignissimos ducimus qui blanditiis praesentium voluptatum deleniti atque corrupti quos\n",
    "dolores et quas molestias excepturi sint occaecati cupiditate non provident, similique sunt in culpa qui officia deserunt mollitia animi, \n",
    "id est laborum et dolorum fuga. Et harum quidem rerum facilis est et expedita distinctio. Nam libero tempore, \n",
    "cum soluta nobis est eligendi optio cumque nihil impedit quo minus id quod maxime placeat facere possimus, omnis voluptas assumenda est, \n",
    "omnis dolor repellendus. Temporibus autem quibusdam et aut officiis debitis aut rerum necessitatibus saepe eveniet ut et voluptates \n",
    "repudiandae sint et molestiae non recusandae. Itaque earum rerum hic tenetur a sapiente delectus, ut aut reiciendis voluptatibus maiores \n",
    "alias consequatur aut perferendis doloribus asperiores repellat.\n",
    "\"\"\""
   ]
  },
  {
   "cell_type": "code",
   "execution_count": 22,
   "id": "38b4153f",
   "metadata": {},
   "outputs": [
    {
     "name": "stdout",
     "output_type": "stream",
     "text": [
      "Counter({'et': 8, 'aut': 4, 'est': 3, 'rerum': 3, 'qui': 2, 'sint': 2, 'non': 2, 'id': 2, 'omnis': 2, 'ut': 2, 'At': 1, 'vero': 1, 'eos': 1, 'accusamus': 1, 'iusto': 1, 'odio': 1, 'dignissimos': 1, 'ducimus': 1, 'blanditiis': 1, 'praesentium': 1, 'voluptatum': 1, 'deleniti': 1, 'atque': 1, 'corrupti': 1, 'quos': 1, 'dolores': 1, 'quas': 1, 'molestias': 1, 'excepturi': 1, 'occaecati': 1, 'cupiditate': 1, 'provident,': 1, 'similique': 1, 'sunt': 1, 'in': 1, 'culpa': 1, 'officia': 1, 'deserunt': 1, 'mollitia': 1, 'animi,': 1, 'laborum': 1, 'dolorum': 1, 'fuga.': 1, 'Et': 1, 'harum': 1, 'quidem': 1, 'facilis': 1, 'expedita': 1, 'distinctio.': 1, 'Nam': 1, 'libero': 1, 'tempore,': 1, 'cum': 1, 'soluta': 1, 'nobis': 1, 'eligendi': 1, 'optio': 1, 'cumque': 1, 'nihil': 1, 'impedit': 1, 'quo': 1, 'minus': 1, 'quod': 1, 'maxime': 1, 'placeat': 1, 'facere': 1, 'possimus,': 1, 'voluptas': 1, 'assumenda': 1, 'est,': 1, 'dolor': 1, 'repellendus.': 1, 'Temporibus': 1, 'autem': 1, 'quibusdam': 1, 'officiis': 1, 'debitis': 1, 'necessitatibus': 1, 'saepe': 1, 'eveniet': 1, 'voluptates': 1, 'repudiandae': 1, 'molestiae': 1, 'recusandae.': 1, 'Itaque': 1, 'earum': 1, 'hic': 1, 'tenetur': 1, 'a': 1, 'sapiente': 1, 'delectus,': 1, 'reiciendis': 1, 'voluptatibus': 1, 'maiores': 1, 'alias': 1, 'consequatur': 1, 'perferendis': 1, 'doloribus': 1, 'asperiores': 1, 'repellat.': 1})\n"
     ]
    }
   ],
   "source": [
    "counter = Counter(message.split())\n",
    "print(counter)"
   ]
  },
  {
   "cell_type": "code",
   "execution_count": 23,
   "id": "bfeffa52",
   "metadata": {},
   "outputs": [
    {
     "name": "stdout",
     "output_type": "stream",
     "text": [
      "<class 'collections.Counter'>\n"
     ]
    }
   ],
   "source": [
    "print(type(counter))"
   ]
  },
  {
   "cell_type": "markdown",
   "id": "338c6f1a",
   "metadata": {},
   "source": [
    "* Counter(dict) -> list 형태 반환"
   ]
  },
  {
   "cell_type": "code",
   "execution_count": 24,
   "id": "95a0cfd4",
   "metadata": {},
   "outputs": [
    {
     "name": "stdout",
     "output_type": "stream",
     "text": [
      "[('et', 8), ('aut', 4), ('est', 3), ('rerum', 3), ('qui', 2), ('sint', 2), ('non', 2), ('id', 2), ('omnis', 2), ('ut', 2), ('At', 1), ('vero', 1), ('eos', 1), ('accusamus', 1), ('iusto', 1), ('odio', 1), ('dignissimos', 1), ('ducimus', 1), ('blanditiis', 1), ('praesentium', 1), ('voluptatum', 1), ('deleniti', 1), ('atque', 1), ('corrupti', 1), ('quos', 1), ('dolores', 1), ('quas', 1), ('molestias', 1), ('excepturi', 1), ('occaecati', 1), ('cupiditate', 1), ('provident,', 1), ('similique', 1), ('sunt', 1), ('in', 1), ('culpa', 1), ('officia', 1), ('deserunt', 1), ('mollitia', 1), ('animi,', 1), ('laborum', 1), ('dolorum', 1), ('fuga.', 1), ('Et', 1), ('harum', 1), ('quidem', 1), ('facilis', 1), ('expedita', 1), ('distinctio.', 1), ('Nam', 1), ('libero', 1), ('tempore,', 1), ('cum', 1), ('soluta', 1), ('nobis', 1), ('eligendi', 1), ('optio', 1), ('cumque', 1), ('nihil', 1), ('impedit', 1), ('quo', 1), ('minus', 1), ('quod', 1), ('maxime', 1), ('placeat', 1), ('facere', 1), ('possimus,', 1), ('voluptas', 1), ('assumenda', 1), ('est,', 1), ('dolor', 1), ('repellendus.', 1), ('Temporibus', 1), ('autem', 1), ('quibusdam', 1), ('officiis', 1), ('debitis', 1), ('necessitatibus', 1), ('saepe', 1), ('eveniet', 1), ('voluptates', 1), ('repudiandae', 1), ('molestiae', 1), ('recusandae.', 1), ('Itaque', 1), ('earum', 1), ('hic', 1), ('tenetur', 1), ('a', 1), ('sapiente', 1), ('delectus,', 1), ('reiciendis', 1), ('voluptatibus', 1), ('maiores', 1), ('alias', 1), ('consequatur', 1), ('perferendis', 1), ('doloribus', 1), ('asperiores', 1), ('repellat.', 1)]\n"
     ]
    }
   ],
   "source": [
    "print(counter.most_common())"
   ]
  },
  {
   "cell_type": "markdown",
   "id": "f358ee41",
   "metadata": {},
   "source": [
    "* list -> dict 형태로 변환"
   ]
  },
  {
   "cell_type": "code",
   "execution_count": 25,
   "id": "39d415ea",
   "metadata": {},
   "outputs": [
    {
     "data": {
      "text/plain": [
       "{'et': 8,\n",
       " 'aut': 4,\n",
       " 'est': 3,\n",
       " 'rerum': 3,\n",
       " 'qui': 2,\n",
       " 'sint': 2,\n",
       " 'non': 2,\n",
       " 'id': 2,\n",
       " 'omnis': 2,\n",
       " 'ut': 2,\n",
       " 'At': 1,\n",
       " 'vero': 1,\n",
       " 'eos': 1,\n",
       " 'accusamus': 1,\n",
       " 'iusto': 1,\n",
       " 'odio': 1,\n",
       " 'dignissimos': 1,\n",
       " 'ducimus': 1,\n",
       " 'blanditiis': 1,\n",
       " 'praesentium': 1,\n",
       " 'voluptatum': 1,\n",
       " 'deleniti': 1,\n",
       " 'atque': 1,\n",
       " 'corrupti': 1,\n",
       " 'quos': 1,\n",
       " 'dolores': 1,\n",
       " 'quas': 1,\n",
       " 'molestias': 1,\n",
       " 'excepturi': 1,\n",
       " 'occaecati': 1,\n",
       " 'cupiditate': 1,\n",
       " 'provident,': 1,\n",
       " 'similique': 1,\n",
       " 'sunt': 1,\n",
       " 'in': 1,\n",
       " 'culpa': 1,\n",
       " 'officia': 1,\n",
       " 'deserunt': 1,\n",
       " 'mollitia': 1,\n",
       " 'animi,': 1,\n",
       " 'laborum': 1,\n",
       " 'dolorum': 1,\n",
       " 'fuga.': 1,\n",
       " 'Et': 1,\n",
       " 'harum': 1,\n",
       " 'quidem': 1,\n",
       " 'facilis': 1,\n",
       " 'expedita': 1,\n",
       " 'distinctio.': 1,\n",
       " 'Nam': 1,\n",
       " 'libero': 1,\n",
       " 'tempore,': 1,\n",
       " 'cum': 1,\n",
       " 'soluta': 1,\n",
       " 'nobis': 1,\n",
       " 'eligendi': 1,\n",
       " 'optio': 1,\n",
       " 'cumque': 1,\n",
       " 'nihil': 1,\n",
       " 'impedit': 1,\n",
       " 'quo': 1,\n",
       " 'minus': 1,\n",
       " 'quod': 1,\n",
       " 'maxime': 1,\n",
       " 'placeat': 1,\n",
       " 'facere': 1,\n",
       " 'possimus,': 1,\n",
       " 'voluptas': 1,\n",
       " 'assumenda': 1,\n",
       " 'est,': 1,\n",
       " 'dolor': 1,\n",
       " 'repellendus.': 1,\n",
       " 'Temporibus': 1,\n",
       " 'autem': 1,\n",
       " 'quibusdam': 1,\n",
       " 'officiis': 1,\n",
       " 'debitis': 1,\n",
       " 'necessitatibus': 1,\n",
       " 'saepe': 1,\n",
       " 'eveniet': 1,\n",
       " 'voluptates': 1,\n",
       " 'repudiandae': 1,\n",
       " 'molestiae': 1,\n",
       " 'recusandae.': 1,\n",
       " 'Itaque': 1,\n",
       " 'earum': 1,\n",
       " 'hic': 1,\n",
       " 'tenetur': 1,\n",
       " 'a': 1,\n",
       " 'sapiente': 1,\n",
       " 'delectus,': 1,\n",
       " 'reiciendis': 1,\n",
       " 'voluptatibus': 1,\n",
       " 'maiores': 1,\n",
       " 'alias': 1,\n",
       " 'consequatur': 1,\n",
       " 'perferendis': 1,\n",
       " 'doloribus': 1,\n",
       " 'asperiores': 1,\n",
       " 'repellat.': 1}"
      ]
     },
     "execution_count": 25,
     "metadata": {},
     "output_type": "execute_result"
    }
   ],
   "source": [
    "dict_msg = dict(counter.most_common())\n",
    "dict_msg"
   ]
  },
  {
   "cell_type": "code",
   "execution_count": 26,
   "id": "50ad66ea",
   "metadata": {},
   "outputs": [
    {
     "name": "stdout",
     "output_type": "stream",
     "text": [
      "3\n"
     ]
    }
   ],
   "source": [
    "print(dict_msg['rerum'])"
   ]
  },
  {
   "cell_type": "code",
   "execution_count": null,
   "id": "8aa3b5d2",
   "metadata": {},
   "outputs": [],
   "source": []
  }
 ],
 "metadata": {
  "kernelspec": {
   "display_name": "Python 3 (ipykernel)",
   "language": "python",
   "name": "python3"
  },
  "language_info": {
   "codemirror_mode": {
    "name": "ipython",
    "version": 3
   },
   "file_extension": ".py",
   "mimetype": "text/x-python",
   "name": "python",
   "nbconvert_exporter": "python",
   "pygments_lexer": "ipython3",
   "version": "3.7.13"
  }
 },
 "nbformat": 4,
 "nbformat_minor": 5
}
